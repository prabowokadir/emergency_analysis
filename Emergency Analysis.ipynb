{
 "cells": [
  {
   "cell_type": "markdown",
   "metadata": {},
   "source": [
    "# Emergency Analysis"
   ]
  },
  {
   "cell_type": "markdown",
   "metadata": {},
   "source": [
    "Data dibawah merupakan data _emergency call_ dari Montgomery County, PA."
   ]
  },
  {
   "cell_type": "markdown",
   "metadata": {},
   "source": [
    "## Data Preparation"
   ]
  },
  {
   "cell_type": "code",
   "execution_count": 1,
   "metadata": {},
   "outputs": [],
   "source": [
    "import pandas as pd\n",
    "import numpy as np"
   ]
  },
  {
   "cell_type": "code",
   "execution_count": 2,
   "metadata": {},
   "outputs": [
    {
     "data": {
      "text/html": [
       "<div>\n",
       "<style scoped>\n",
       "    .dataframe tbody tr th:only-of-type {\n",
       "        vertical-align: middle;\n",
       "    }\n",
       "\n",
       "    .dataframe tbody tr th {\n",
       "        vertical-align: top;\n",
       "    }\n",
       "\n",
       "    .dataframe thead th {\n",
       "        text-align: right;\n",
       "    }\n",
       "</style>\n",
       "<table border=\"1\" class=\"dataframe\">\n",
       "  <thead>\n",
       "    <tr style=\"text-align: right;\">\n",
       "      <th></th>\n",
       "      <th>lat</th>\n",
       "      <th>lng</th>\n",
       "      <th>desc</th>\n",
       "      <th>zip</th>\n",
       "      <th>title</th>\n",
       "      <th>timeStamp</th>\n",
       "      <th>twp</th>\n",
       "      <th>addr</th>\n",
       "      <th>e</th>\n",
       "    </tr>\n",
       "  </thead>\n",
       "  <tbody>\n",
       "    <tr>\n",
       "      <th>0</th>\n",
       "      <td>40.297876</td>\n",
       "      <td>-75.581294</td>\n",
       "      <td>REINDEER CT &amp; DEAD END;  NEW HANOVER; Station ...</td>\n",
       "      <td>19525.0</td>\n",
       "      <td>EMS: BACK PAINS/INJURY</td>\n",
       "      <td>2015-12-10 17:10:52</td>\n",
       "      <td>NEW HANOVER</td>\n",
       "      <td>REINDEER CT &amp; DEAD END</td>\n",
       "      <td>1</td>\n",
       "    </tr>\n",
       "    <tr>\n",
       "      <th>1</th>\n",
       "      <td>40.258061</td>\n",
       "      <td>-75.264680</td>\n",
       "      <td>BRIAR PATH &amp; WHITEMARSH LN;  HATFIELD TOWNSHIP...</td>\n",
       "      <td>19446.0</td>\n",
       "      <td>EMS: DIABETIC EMERGENCY</td>\n",
       "      <td>2015-12-10 17:29:21</td>\n",
       "      <td>HATFIELD TOWNSHIP</td>\n",
       "      <td>BRIAR PATH &amp; WHITEMARSH LN</td>\n",
       "      <td>1</td>\n",
       "    </tr>\n",
       "    <tr>\n",
       "      <th>2</th>\n",
       "      <td>40.121182</td>\n",
       "      <td>-75.351975</td>\n",
       "      <td>HAWS AVE; NORRISTOWN; 2015-12-10 @ 14:39:21-St...</td>\n",
       "      <td>19401.0</td>\n",
       "      <td>Fire: GAS-ODOR/LEAK</td>\n",
       "      <td>2015-12-10 14:39:21</td>\n",
       "      <td>NORRISTOWN</td>\n",
       "      <td>HAWS AVE</td>\n",
       "      <td>1</td>\n",
       "    </tr>\n",
       "    <tr>\n",
       "      <th>3</th>\n",
       "      <td>40.116153</td>\n",
       "      <td>-75.343513</td>\n",
       "      <td>AIRY ST &amp; SWEDE ST;  NORRISTOWN; Station 308A;...</td>\n",
       "      <td>19401.0</td>\n",
       "      <td>EMS: CARDIAC EMERGENCY</td>\n",
       "      <td>2015-12-10 16:47:36</td>\n",
       "      <td>NORRISTOWN</td>\n",
       "      <td>AIRY ST &amp; SWEDE ST</td>\n",
       "      <td>1</td>\n",
       "    </tr>\n",
       "    <tr>\n",
       "      <th>4</th>\n",
       "      <td>40.251492</td>\n",
       "      <td>-75.603350</td>\n",
       "      <td>CHERRYWOOD CT &amp; DEAD END;  LOWER POTTSGROVE; S...</td>\n",
       "      <td>NaN</td>\n",
       "      <td>EMS: DIZZINESS</td>\n",
       "      <td>2015-12-10 16:56:52</td>\n",
       "      <td>LOWER POTTSGROVE</td>\n",
       "      <td>CHERRYWOOD CT &amp; DEAD END</td>\n",
       "      <td>1</td>\n",
       "    </tr>\n",
       "  </tbody>\n",
       "</table>\n",
       "</div>"
      ],
      "text/plain": [
       "         lat        lng                                               desc  \\\n",
       "0  40.297876 -75.581294  REINDEER CT & DEAD END;  NEW HANOVER; Station ...   \n",
       "1  40.258061 -75.264680  BRIAR PATH & WHITEMARSH LN;  HATFIELD TOWNSHIP...   \n",
       "2  40.121182 -75.351975  HAWS AVE; NORRISTOWN; 2015-12-10 @ 14:39:21-St...   \n",
       "3  40.116153 -75.343513  AIRY ST & SWEDE ST;  NORRISTOWN; Station 308A;...   \n",
       "4  40.251492 -75.603350  CHERRYWOOD CT & DEAD END;  LOWER POTTSGROVE; S...   \n",
       "\n",
       "       zip                    title            timeStamp                twp  \\\n",
       "0  19525.0   EMS: BACK PAINS/INJURY  2015-12-10 17:10:52        NEW HANOVER   \n",
       "1  19446.0  EMS: DIABETIC EMERGENCY  2015-12-10 17:29:21  HATFIELD TOWNSHIP   \n",
       "2  19401.0      Fire: GAS-ODOR/LEAK  2015-12-10 14:39:21         NORRISTOWN   \n",
       "3  19401.0   EMS: CARDIAC EMERGENCY  2015-12-10 16:47:36         NORRISTOWN   \n",
       "4      NaN           EMS: DIZZINESS  2015-12-10 16:56:52   LOWER POTTSGROVE   \n",
       "\n",
       "                         addr  e  \n",
       "0      REINDEER CT & DEAD END  1  \n",
       "1  BRIAR PATH & WHITEMARSH LN  1  \n",
       "2                    HAWS AVE  1  \n",
       "3          AIRY ST & SWEDE ST  1  \n",
       "4    CHERRYWOOD CT & DEAD END  1  "
      ]
     },
     "execution_count": 2,
     "metadata": {},
     "output_type": "execute_result"
    }
   ],
   "source": [
    "emergency = pd.read_csv('911.csv')\n",
    "emergency.head()"
   ]
  },
  {
   "cell_type": "markdown",
   "metadata": {},
   "source": [
    "Penjelasan dari kolom (feature) di atas ialah :\n",
    "* `lat` dan `lng` merupakan garis horizontal dan lintang yang menunjukkan titik lokasi dari _emergency call_ dibuat.\n",
    "* `zip` adalah kode pos dari lokasi _emergency call_.\n",
    "* `title` ialah jenis _emergency call_ beserta dengan informasi detailnya.\n",
    "* `timeStamp` adalah waktu saat panggilan tersebut diposting.\n",
    "* `twp` merupakan kota atau kabupaten dari _emergency call_.\n",
    "* `addr` adalah alamat spesifik dari panggilan tersebut."
   ]
  },
  {
   "cell_type": "code",
   "execution_count": 3,
   "metadata": {},
   "outputs": [
    {
     "data": {
      "text/plain": [
       "(663522, 9)"
      ]
     },
     "execution_count": 3,
     "metadata": {},
     "output_type": "execute_result"
    }
   ],
   "source": [
    "emergency.shape"
   ]
  },
  {
   "cell_type": "markdown",
   "metadata": {},
   "source": [
    "Dataset terdiri dari 663522 baris dan 9 kolom."
   ]
  },
  {
   "cell_type": "code",
   "execution_count": 4,
   "metadata": {
    "scrolled": true
   },
   "outputs": [
    {
     "name": "stdout",
     "output_type": "stream",
     "text": [
      "<class 'pandas.core.frame.DataFrame'>\n",
      "RangeIndex: 663522 entries, 0 to 663521\n",
      "Data columns (total 9 columns):\n",
      " #   Column     Non-Null Count   Dtype  \n",
      "---  ------     --------------   -----  \n",
      " 0   lat        663522 non-null  float64\n",
      " 1   lng        663522 non-null  float64\n",
      " 2   desc       663522 non-null  object \n",
      " 3   zip        583323 non-null  float64\n",
      " 4   title      663522 non-null  object \n",
      " 5   timeStamp  663522 non-null  object \n",
      " 6   twp        663229 non-null  object \n",
      " 7   addr       663522 non-null  object \n",
      " 8   e          663522 non-null  int64  \n",
      "dtypes: float64(3), int64(1), object(5)\n",
      "memory usage: 45.6+ MB\n"
     ]
    }
   ],
   "source": [
    "emergency.info()"
   ]
  },
  {
   "cell_type": "markdown",
   "metadata": {},
   "source": [
    "Beberapa info yang kita dapatkan di antaranya :\n",
    "* Dataset secara general didominasi oleh tipe data `object`.\n",
    "* Selain itu, jenis tipe data lainnya ialah `float64` dan `int64`.\n",
    "* Kolom `timeStamp` harus dikonversi menjadi tipe data `datetime64`.\n",
    "* `zip` dan `twp` memiliki beberapa baris dengan _missing values_."
   ]
  },
  {
   "cell_type": "markdown",
   "metadata": {},
   "source": [
    "## Data Cleansing and Manipulation"
   ]
  },
  {
   "cell_type": "code",
   "execution_count": 5,
   "metadata": {},
   "outputs": [
    {
     "name": "stdout",
     "output_type": "stream",
     "text": [
      "Beberapa kolom dengan _missing values_ :\n"
     ]
    },
    {
     "data": {
      "text/plain": [
       "lat              0\n",
       "lng              0\n",
       "desc             0\n",
       "zip          80199\n",
       "title            0\n",
       "timeStamp        0\n",
       "twp            293\n",
       "addr             0\n",
       "e                0\n",
       "dtype: int64"
      ]
     },
     "execution_count": 5,
     "metadata": {},
     "output_type": "execute_result"
    }
   ],
   "source": [
    "# Check for missing values\n",
    "print(f'Beberapa kolom dengan _missing values_ :')\n",
    "emergency.isnull().sum()"
   ]
  },
  {
   "cell_type": "markdown",
   "metadata": {},
   "source": [
    "* Hanya `zip` dan `twp` yang memiliki _missing values_.\n",
    "* Baris dengan _missing values_ dari kolom `twp` bisa kita buang dari dataset.\n",
    "* Sementara kolom `zip` bisa kita buang dari dataset karena tidak akan kita gunakan dalam proses analisis."
   ]
  },
  {
   "cell_type": "code",
   "execution_count": 6,
   "metadata": {},
   "outputs": [],
   "source": [
    "# Drop column zip from dataset\n",
    "emergency.drop('zip', axis=1, inplace=True)"
   ]
  },
  {
   "cell_type": "code",
   "execution_count": 7,
   "metadata": {},
   "outputs": [],
   "source": [
    "# Drop row with missing values\n",
    "emergency.dropna(axis=0, inplace=True)\n",
    "emergency.reset_index(drop=True, inplace=True)"
   ]
  },
  {
   "cell_type": "code",
   "execution_count": 8,
   "metadata": {},
   "outputs": [],
   "source": [
    "# Convert dtype of timeStamp\n",
    "emergency['timeStamp'] = emergency['timeStamp'].astype('datetime64')"
   ]
  },
  {
   "cell_type": "markdown",
   "metadata": {},
   "source": [
    "Pada tahap selanjutnya, kita akan melakukan manipulasi data terhadap kolom `title` dan `timeStamp`."
   ]
  },
  {
   "cell_type": "markdown",
   "metadata": {},
   "source": [
    "Dari kolom `title` kita dapat memunculkan dua kolom baru yaitu jenis panggilan secara umum seperti `EMS`, `Fire`, ataupun yang lain. Satu kolom lagi yaitu detail dari jenis panggilan tersebut. Contohnya untuk `EMS` secara spesifik ialah `BACK PAINS/INJURY`, `DIZZINESS`, dan lain-lain."
   ]
  },
  {
   "cell_type": "code",
   "execution_count": 9,
   "metadata": {},
   "outputs": [],
   "source": [
    "# Split every row in title column with sep=': '\n",
    "split_title = emergency['title'].str.split(': ', n=1, expand=True)\n",
    "\n",
    "# New column general_title and detail_title from title\n",
    "emergency['general_title'] = split_title[0]\n",
    "emergency['detail_title'] = split_title[1]\n",
    "\n",
    "# Drop column title\n",
    "emergency.drop('title', axis=1, inplace=True)"
   ]
  },
  {
   "cell_type": "markdown",
   "metadata": {},
   "source": [
    "Selanjutnya, kita buat kolom baru yaitu `date` dari kolom `timeStamp` yang hanya berisikan informasi tanggal."
   ]
  },
  {
   "cell_type": "code",
   "execution_count": 10,
   "metadata": {},
   "outputs": [],
   "source": [
    "# New column date from timeStamp\n",
    "emergency['date'] = emergency['timeStamp'].dt.date\n",
    "emergency['date'] = emergency['date'].astype('datetime64')\n",
    "\n",
    "# Drop column timeStamp\n",
    "emergency.drop('timeStamp', axis=1, inplace=True)"
   ]
  },
  {
   "cell_type": "code",
   "execution_count": 11,
   "metadata": {},
   "outputs": [
    {
     "data": {
      "text/html": [
       "<div>\n",
       "<style scoped>\n",
       "    .dataframe tbody tr th:only-of-type {\n",
       "        vertical-align: middle;\n",
       "    }\n",
       "\n",
       "    .dataframe tbody tr th {\n",
       "        vertical-align: top;\n",
       "    }\n",
       "\n",
       "    .dataframe thead th {\n",
       "        text-align: right;\n",
       "    }\n",
       "</style>\n",
       "<table border=\"1\" class=\"dataframe\">\n",
       "  <thead>\n",
       "    <tr style=\"text-align: right;\">\n",
       "      <th></th>\n",
       "      <th>lat</th>\n",
       "      <th>lng</th>\n",
       "      <th>desc</th>\n",
       "      <th>twp</th>\n",
       "      <th>addr</th>\n",
       "      <th>e</th>\n",
       "      <th>general_title</th>\n",
       "      <th>detail_title</th>\n",
       "      <th>date</th>\n",
       "    </tr>\n",
       "  </thead>\n",
       "  <tbody>\n",
       "    <tr>\n",
       "      <th>0</th>\n",
       "      <td>40.297876</td>\n",
       "      <td>-75.581294</td>\n",
       "      <td>REINDEER CT &amp; DEAD END;  NEW HANOVER; Station ...</td>\n",
       "      <td>NEW HANOVER</td>\n",
       "      <td>REINDEER CT &amp; DEAD END</td>\n",
       "      <td>1</td>\n",
       "      <td>EMS</td>\n",
       "      <td>BACK PAINS/INJURY</td>\n",
       "      <td>2015-12-10</td>\n",
       "    </tr>\n",
       "    <tr>\n",
       "      <th>1</th>\n",
       "      <td>40.258061</td>\n",
       "      <td>-75.264680</td>\n",
       "      <td>BRIAR PATH &amp; WHITEMARSH LN;  HATFIELD TOWNSHIP...</td>\n",
       "      <td>HATFIELD TOWNSHIP</td>\n",
       "      <td>BRIAR PATH &amp; WHITEMARSH LN</td>\n",
       "      <td>1</td>\n",
       "      <td>EMS</td>\n",
       "      <td>DIABETIC EMERGENCY</td>\n",
       "      <td>2015-12-10</td>\n",
       "    </tr>\n",
       "    <tr>\n",
       "      <th>2</th>\n",
       "      <td>40.121182</td>\n",
       "      <td>-75.351975</td>\n",
       "      <td>HAWS AVE; NORRISTOWN; 2015-12-10 @ 14:39:21-St...</td>\n",
       "      <td>NORRISTOWN</td>\n",
       "      <td>HAWS AVE</td>\n",
       "      <td>1</td>\n",
       "      <td>Fire</td>\n",
       "      <td>GAS-ODOR/LEAK</td>\n",
       "      <td>2015-12-10</td>\n",
       "    </tr>\n",
       "    <tr>\n",
       "      <th>3</th>\n",
       "      <td>40.116153</td>\n",
       "      <td>-75.343513</td>\n",
       "      <td>AIRY ST &amp; SWEDE ST;  NORRISTOWN; Station 308A;...</td>\n",
       "      <td>NORRISTOWN</td>\n",
       "      <td>AIRY ST &amp; SWEDE ST</td>\n",
       "      <td>1</td>\n",
       "      <td>EMS</td>\n",
       "      <td>CARDIAC EMERGENCY</td>\n",
       "      <td>2015-12-10</td>\n",
       "    </tr>\n",
       "    <tr>\n",
       "      <th>4</th>\n",
       "      <td>40.251492</td>\n",
       "      <td>-75.603350</td>\n",
       "      <td>CHERRYWOOD CT &amp; DEAD END;  LOWER POTTSGROVE; S...</td>\n",
       "      <td>LOWER POTTSGROVE</td>\n",
       "      <td>CHERRYWOOD CT &amp; DEAD END</td>\n",
       "      <td>1</td>\n",
       "      <td>EMS</td>\n",
       "      <td>DIZZINESS</td>\n",
       "      <td>2015-12-10</td>\n",
       "    </tr>\n",
       "  </tbody>\n",
       "</table>\n",
       "</div>"
      ],
      "text/plain": [
       "         lat        lng                                               desc  \\\n",
       "0  40.297876 -75.581294  REINDEER CT & DEAD END;  NEW HANOVER; Station ...   \n",
       "1  40.258061 -75.264680  BRIAR PATH & WHITEMARSH LN;  HATFIELD TOWNSHIP...   \n",
       "2  40.121182 -75.351975  HAWS AVE; NORRISTOWN; 2015-12-10 @ 14:39:21-St...   \n",
       "3  40.116153 -75.343513  AIRY ST & SWEDE ST;  NORRISTOWN; Station 308A;...   \n",
       "4  40.251492 -75.603350  CHERRYWOOD CT & DEAD END;  LOWER POTTSGROVE; S...   \n",
       "\n",
       "                 twp                        addr  e general_title  \\\n",
       "0        NEW HANOVER      REINDEER CT & DEAD END  1           EMS   \n",
       "1  HATFIELD TOWNSHIP  BRIAR PATH & WHITEMARSH LN  1           EMS   \n",
       "2         NORRISTOWN                    HAWS AVE  1          Fire   \n",
       "3         NORRISTOWN          AIRY ST & SWEDE ST  1           EMS   \n",
       "4   LOWER POTTSGROVE    CHERRYWOOD CT & DEAD END  1           EMS   \n",
       "\n",
       "         detail_title       date  \n",
       "0   BACK PAINS/INJURY 2015-12-10  \n",
       "1  DIABETIC EMERGENCY 2015-12-10  \n",
       "2       GAS-ODOR/LEAK 2015-12-10  \n",
       "3   CARDIAC EMERGENCY 2015-12-10  \n",
       "4           DIZZINESS 2015-12-10  "
      ]
     },
     "execution_count": 11,
     "metadata": {},
     "output_type": "execute_result"
    }
   ],
   "source": [
    "emergency.head()"
   ]
  },
  {
   "cell_type": "markdown",
   "metadata": {},
   "source": [
    "## Exploratory Data Analysis"
   ]
  },
  {
   "cell_type": "markdown",
   "metadata": {},
   "source": [
    "### General Insight"
   ]
  },
  {
   "cell_type": "code",
   "execution_count": 12,
   "metadata": {
    "scrolled": false
   },
   "outputs": [
    {
     "data": {
      "text/html": [
       "<div>\n",
       "<style scoped>\n",
       "    .dataframe tbody tr th:only-of-type {\n",
       "        vertical-align: middle;\n",
       "    }\n",
       "\n",
       "    .dataframe tbody tr th {\n",
       "        vertical-align: top;\n",
       "    }\n",
       "\n",
       "    .dataframe thead th {\n",
       "        text-align: right;\n",
       "    }\n",
       "</style>\n",
       "<table border=\"1\" class=\"dataframe\">\n",
       "  <thead>\n",
       "    <tr style=\"text-align: right;\">\n",
       "      <th></th>\n",
       "      <th>lat</th>\n",
       "      <th>lng</th>\n",
       "      <th>desc</th>\n",
       "      <th>twp</th>\n",
       "      <th>addr</th>\n",
       "      <th>e</th>\n",
       "      <th>general_title</th>\n",
       "      <th>detail_title</th>\n",
       "      <th>date</th>\n",
       "    </tr>\n",
       "  </thead>\n",
       "  <tbody>\n",
       "    <tr>\n",
       "      <th>count</th>\n",
       "      <td>663229.000000</td>\n",
       "      <td>663229.000000</td>\n",
       "      <td>663229</td>\n",
       "      <td>663229</td>\n",
       "      <td>663229</td>\n",
       "      <td>663229.0</td>\n",
       "      <td>663229</td>\n",
       "      <td>663229</td>\n",
       "      <td>663229</td>\n",
       "    </tr>\n",
       "    <tr>\n",
       "      <th>unique</th>\n",
       "      <td>NaN</td>\n",
       "      <td>NaN</td>\n",
       "      <td>662989</td>\n",
       "      <td>68</td>\n",
       "      <td>41249</td>\n",
       "      <td>NaN</td>\n",
       "      <td>3</td>\n",
       "      <td>95</td>\n",
       "      <td>1694</td>\n",
       "    </tr>\n",
       "    <tr>\n",
       "      <th>top</th>\n",
       "      <td>NaN</td>\n",
       "      <td>NaN</td>\n",
       "      <td>CITY AVE &amp; CARDINAL AVE;  LOWER MERION; Statio...</td>\n",
       "      <td>LOWER MERION</td>\n",
       "      <td>SHANNONDELL DR &amp; SHANNONDELL BLVD</td>\n",
       "      <td>NaN</td>\n",
       "      <td>EMS</td>\n",
       "      <td>VEHICLE ACCIDENT -</td>\n",
       "      <td>2018-03-02 00:00:00</td>\n",
       "    </tr>\n",
       "    <tr>\n",
       "      <th>freq</th>\n",
       "      <td>NaN</td>\n",
       "      <td>NaN</td>\n",
       "      <td>5</td>\n",
       "      <td>55490</td>\n",
       "      <td>7285</td>\n",
       "      <td>NaN</td>\n",
       "      <td>332480</td>\n",
       "      <td>148371</td>\n",
       "      <td>2187</td>\n",
       "    </tr>\n",
       "    <tr>\n",
       "      <th>first</th>\n",
       "      <td>NaN</td>\n",
       "      <td>NaN</td>\n",
       "      <td>NaN</td>\n",
       "      <td>NaN</td>\n",
       "      <td>NaN</td>\n",
       "      <td>NaN</td>\n",
       "      <td>NaN</td>\n",
       "      <td>NaN</td>\n",
       "      <td>2015-12-10 00:00:00</td>\n",
       "    </tr>\n",
       "    <tr>\n",
       "      <th>last</th>\n",
       "      <td>NaN</td>\n",
       "      <td>NaN</td>\n",
       "      <td>NaN</td>\n",
       "      <td>NaN</td>\n",
       "      <td>NaN</td>\n",
       "      <td>NaN</td>\n",
       "      <td>NaN</td>\n",
       "      <td>NaN</td>\n",
       "      <td>2020-07-29 00:00:00</td>\n",
       "    </tr>\n",
       "    <tr>\n",
       "      <th>mean</th>\n",
       "      <td>40.158142</td>\n",
       "      <td>-75.300036</td>\n",
       "      <td>NaN</td>\n",
       "      <td>NaN</td>\n",
       "      <td>NaN</td>\n",
       "      <td>1.0</td>\n",
       "      <td>NaN</td>\n",
       "      <td>NaN</td>\n",
       "      <td>NaN</td>\n",
       "    </tr>\n",
       "    <tr>\n",
       "      <th>std</th>\n",
       "      <td>0.220639</td>\n",
       "      <td>1.673049</td>\n",
       "      <td>NaN</td>\n",
       "      <td>NaN</td>\n",
       "      <td>NaN</td>\n",
       "      <td>0.0</td>\n",
       "      <td>NaN</td>\n",
       "      <td>NaN</td>\n",
       "      <td>NaN</td>\n",
       "    </tr>\n",
       "    <tr>\n",
       "      <th>min</th>\n",
       "      <td>0.000000</td>\n",
       "      <td>-119.698206</td>\n",
       "      <td>NaN</td>\n",
       "      <td>NaN</td>\n",
       "      <td>NaN</td>\n",
       "      <td>1.0</td>\n",
       "      <td>NaN</td>\n",
       "      <td>NaN</td>\n",
       "      <td>NaN</td>\n",
       "    </tr>\n",
       "    <tr>\n",
       "      <th>25%</th>\n",
       "      <td>40.100344</td>\n",
       "      <td>-75.392751</td>\n",
       "      <td>NaN</td>\n",
       "      <td>NaN</td>\n",
       "      <td>NaN</td>\n",
       "      <td>1.0</td>\n",
       "      <td>NaN</td>\n",
       "      <td>NaN</td>\n",
       "      <td>NaN</td>\n",
       "    </tr>\n",
       "    <tr>\n",
       "      <th>50%</th>\n",
       "      <td>40.143821</td>\n",
       "      <td>-75.305143</td>\n",
       "      <td>NaN</td>\n",
       "      <td>NaN</td>\n",
       "      <td>NaN</td>\n",
       "      <td>1.0</td>\n",
       "      <td>NaN</td>\n",
       "      <td>NaN</td>\n",
       "      <td>NaN</td>\n",
       "    </tr>\n",
       "    <tr>\n",
       "      <th>75%</th>\n",
       "      <td>40.229008</td>\n",
       "      <td>-75.211812</td>\n",
       "      <td>NaN</td>\n",
       "      <td>NaN</td>\n",
       "      <td>NaN</td>\n",
       "      <td>1.0</td>\n",
       "      <td>NaN</td>\n",
       "      <td>NaN</td>\n",
       "      <td>NaN</td>\n",
       "    </tr>\n",
       "    <tr>\n",
       "      <th>max</th>\n",
       "      <td>51.335390</td>\n",
       "      <td>87.854975</td>\n",
       "      <td>NaN</td>\n",
       "      <td>NaN</td>\n",
       "      <td>NaN</td>\n",
       "      <td>1.0</td>\n",
       "      <td>NaN</td>\n",
       "      <td>NaN</td>\n",
       "      <td>NaN</td>\n",
       "    </tr>\n",
       "  </tbody>\n",
       "</table>\n",
       "</div>"
      ],
      "text/plain": [
       "                  lat            lng  \\\n",
       "count   663229.000000  663229.000000   \n",
       "unique            NaN            NaN   \n",
       "top               NaN            NaN   \n",
       "freq              NaN            NaN   \n",
       "first             NaN            NaN   \n",
       "last              NaN            NaN   \n",
       "mean        40.158142     -75.300036   \n",
       "std          0.220639       1.673049   \n",
       "min          0.000000    -119.698206   \n",
       "25%         40.100344     -75.392751   \n",
       "50%         40.143821     -75.305143   \n",
       "75%         40.229008     -75.211812   \n",
       "max         51.335390      87.854975   \n",
       "\n",
       "                                                     desc           twp  \\\n",
       "count                                              663229        663229   \n",
       "unique                                             662989            68   \n",
       "top     CITY AVE & CARDINAL AVE;  LOWER MERION; Statio...  LOWER MERION   \n",
       "freq                                                    5         55490   \n",
       "first                                                 NaN           NaN   \n",
       "last                                                  NaN           NaN   \n",
       "mean                                                  NaN           NaN   \n",
       "std                                                   NaN           NaN   \n",
       "min                                                   NaN           NaN   \n",
       "25%                                                   NaN           NaN   \n",
       "50%                                                   NaN           NaN   \n",
       "75%                                                   NaN           NaN   \n",
       "max                                                   NaN           NaN   \n",
       "\n",
       "                                     addr         e general_title  \\\n",
       "count                              663229  663229.0        663229   \n",
       "unique                              41249       NaN             3   \n",
       "top     SHANNONDELL DR & SHANNONDELL BLVD       NaN           EMS   \n",
       "freq                                 7285       NaN        332480   \n",
       "first                                 NaN       NaN           NaN   \n",
       "last                                  NaN       NaN           NaN   \n",
       "mean                                  NaN       1.0           NaN   \n",
       "std                                   NaN       0.0           NaN   \n",
       "min                                   NaN       1.0           NaN   \n",
       "25%                                   NaN       1.0           NaN   \n",
       "50%                                   NaN       1.0           NaN   \n",
       "75%                                   NaN       1.0           NaN   \n",
       "max                                   NaN       1.0           NaN   \n",
       "\n",
       "              detail_title                 date  \n",
       "count               663229               663229  \n",
       "unique                  95                 1694  \n",
       "top     VEHICLE ACCIDENT -  2018-03-02 00:00:00  \n",
       "freq                148371                 2187  \n",
       "first                  NaN  2015-12-10 00:00:00  \n",
       "last                   NaN  2020-07-29 00:00:00  \n",
       "mean                   NaN                  NaN  \n",
       "std                    NaN                  NaN  \n",
       "min                    NaN                  NaN  \n",
       "25%                    NaN                  NaN  \n",
       "50%                    NaN                  NaN  \n",
       "75%                    NaN                  NaN  \n",
       "max                    NaN                  NaN  "
      ]
     },
     "execution_count": 12,
     "metadata": {},
     "output_type": "execute_result"
    }
   ],
   "source": [
    "emergency.describe(include='all')"
   ]
  },
  {
   "cell_type": "markdown",
   "metadata": {},
   "source": [
    "Insight yang kita dapatkan dari informasi di atas ialah :\n",
    "* `LOWER MERION` merupakan kota atau kabupaten dengan jumlah kemunculan _emergency call_ terbanyak.\n",
    "* Secara umum, jenis panggilan `EMS` paling banyak melayani _emergency call_ di Montgomery County, PA.\n",
    "* Selain itu, secara spesifik kasus `VEHICLE ACCIDENT` juga banyak terjadi selama kurang lebih empat tahun.\n",
    "* `2018-03-02` merupakan tanggal dengan kasus _emergency call_ yang paling banyak."
   ]
  },
  {
   "cell_type": "markdown",
   "metadata": {},
   "source": [
    "Untuk memastikan insight yang telah kita dapatkan, akan dibuat analisis untuk beberapa kolom ataupun antar kolom."
   ]
  },
  {
   "cell_type": "code",
   "execution_count": 13,
   "metadata": {},
   "outputs": [],
   "source": [
    "import seaborn as sns\n",
    "import matplotlib.pyplot as plt"
   ]
  },
  {
   "cell_type": "markdown",
   "metadata": {},
   "source": [
    "### Time Series From Number of Cases"
   ]
  },
  {
   "cell_type": "code",
   "execution_count": 14,
   "metadata": {},
   "outputs": [],
   "source": [
    "time_series = pd.DataFrame(emergency['date'].value_counts())\n",
    "time_series.rename(columns={'date': 'count_case'}, inplace=True)"
   ]
  },
  {
   "cell_type": "code",
   "execution_count": 15,
   "metadata": {},
   "outputs": [
    {
     "data": {
      "image/png": "[encoded data removed]",
      "text/plain": [
       "<Figure size 1080x720 with 1 Axes>"
      ]
     },
     "metadata": {
      "needs_background": "light"
     },
     "output_type": "display_data"
    }
   ],
   "source": [
    "ax = time_series.plot(grid=True, linewidth=1, linestyle='-', figsize=(15,10), fontsize=13)\n",
    "ax.set_ylabel('Number of Cases', fontdict={'fontsize':13})\n",
    "ax.set_title('2015-2020 Emergency Call', fontdict={'fontsize':13})\n",
    "plt.show()"
   ]
  },
  {
   "cell_type": "markdown",
   "metadata": {},
   "source": [
    "Selama tahun 2018 terdapat peningkatan _emergency call_ yang cukup signifikan sebanyak dua kali dengan jumlah panggilan berturut-turut ialah kurang lebih 2000 dan 1500 panggilan. Selain itu, tahun 2020 juga marupakan tahun dengan kasus terbanyak ketiga selama periode 2016 hingga 2020. Adapun jumlah _emergency call_ tiap tahunnya selalu berada di interval 250 hingga 500 panggilan."
   ]
  },
  {
   "cell_type": "code",
   "execution_count": 16,
   "metadata": {},
   "outputs": [
    {
     "data": {
      "image/png": "[encoded data removed]",
      "text/plain": [
       "<Figure size 1080x720 with 1 Axes>"
      ]
     },
     "metadata": {
      "needs_background": "light"
     },
     "output_type": "display_data"
    }
   ],
   "source": [
    "mar_apr = time_series.loc['2020-03':'2020-04'].sort_index()\n",
    "ax = mar_apr.plot(grid=True, marker='o', linewidth=1, linestyle='-', figsize=(15,10), fontsize=13)\n",
    "ax.set_ylabel('Number of Cases', fontdict={'fontsize':13})\n",
    "ax.set_title('Mar-Apr 2020 Emergency Call', fontdict={'fontsize':13})\n",
    "plt.show()"
   ]
  },
  {
   "cell_type": "markdown",
   "metadata": {},
   "source": [
    "Walaupun interval _emergency call_ dari tahun 2015 hingga 2020 berada di angka 250 hingga 500 panggilan, jumlah tersebut sempat mengalami penurunan di tahun 2020, khususnya dari pertengahan bulan Maret hingga April."
   ]
  },
  {
   "cell_type": "markdown",
   "metadata": {},
   "source": [
    "### Time Series x General Title"
   ]
  },
  {
   "cell_type": "markdown",
   "metadata": {},
   "source": [
    "Berhubung karena data selama tahun 2015 dan 2020 tidak begitu lengkap, maka kita hanya memilih data dari tahun 2016 hingga 2019."
   ]
  },
  {
   "cell_type": "code",
   "execution_count": 17,
   "metadata": {},
   "outputs": [],
   "source": [
    "# Slicing date from 2016-01 to 2019-12\n",
    "condition = (emergency['date'] >= '2016-01') & (emergency['date'] < '2020')"
   ]
  },
  {
   "cell_type": "code",
   "execution_count": 18,
   "metadata": {},
   "outputs": [],
   "source": [
    "# New dataframe from slicing columns date, general_title, and e\n",
    "general_title = emergency[condition][['date', 'general_title', 'e']].copy()\n",
    "general_title['month_year'] = general_title['date'].dt.to_period('M')"
   ]
  },
  {
   "cell_type": "code",
   "execution_count": 19,
   "metadata": {},
   "outputs": [
    {
     "data": {
      "image/png": "[encoded data removed]",
      "text/plain": [
       "<Figure size 1080x720 with 1 Axes>"
      ]
     },
     "metadata": {
      "needs_background": "light"
     },
     "output_type": "display_data"
    }
   ],
   "source": [
    "# Pivot table by month_year-general_title with sum method\n",
    "general_pivot = general_title.pivot_table(index='month_year', columns='general_title',\n",
    "                                          values='e', aggfunc=np.sum)\n",
    "\n",
    "# Plot pivot table to stacked bar chart\n",
    "general_pivot.plot.bar(figsize=(15,10), fontsize=13, stacked=True)\n",
    "plt.title('Number of Emergency Call For Each Month by General Title', fontsize=13)\n",
    "plt.xlabel('Month - Year', fontsize=13)\n",
    "plt.ylabel('Number of Cases', fontsize=13)\n",
    "plt.show()"
   ]
  },
  {
   "cell_type": "markdown",
   "metadata": {},
   "source": [
    "Kesimpulan yang kita dapatkan dari stacked bar chart di atas ialah `EMS` atau _Emergency Medical Service_ selalu mendominasi jumlah _emergency call_ di setiap bulan selama periode 2016 hingga 2019. Kuantitas _emergency call_ dari `Fire` di tiap bulannya berada di kisaran 1000 hingga 2000 panggilan dan merupakan jenis panggilan dengan total terendah jika dibandingkan dengan `EMS` dan `Traffic`."
   ]
  },
  {
   "cell_type": "markdown",
   "metadata": {},
   "source": [
    "### Detail of Emergency Call"
   ]
  },
  {
   "cell_type": "markdown",
   "metadata": {},
   "source": [
    "Setelah akhirnya kita mengetahui proporsi dari `general_title` di tiap bulannya selama periode 2016 hingga 2019. Selanjutnya kita akan mencari tahu secara spesifik untuk masing-masing variabel pada `general_title`."
   ]
  },
  {
   "cell_type": "code",
   "execution_count": 20,
   "metadata": {},
   "outputs": [],
   "source": [
    "emergency_ems = emergency[emergency['general_title']=='EMS'][['detail_title','e']]"
   ]
  },
  {
   "cell_type": "code",
   "execution_count": 21,
   "metadata": {},
   "outputs": [
    {
     "name": "stdout",
     "output_type": "stream",
     "text": [
      "Terdapat sekitar 81 jenis atau tipe panggilan dari kategori EMS.\n",
      "Adapun urutan 10 teratas jenis panggilan dari kategori EMS ialah :\n"
     ]
    },
    {
     "data": {
      "text/html": [
       "<div>\n",
       "<style scoped>\n",
       "    .dataframe tbody tr th:only-of-type {\n",
       "        vertical-align: middle;\n",
       "    }\n",
       "\n",
       "    .dataframe tbody tr th {\n",
       "        vertical-align: top;\n",
       "    }\n",
       "\n",
       "    .dataframe thead th {\n",
       "        text-align: right;\n",
       "    }\n",
       "</style>\n",
       "<table border=\"1\" class=\"dataframe\">\n",
       "  <thead>\n",
       "    <tr style=\"text-align: right;\">\n",
       "      <th></th>\n",
       "      <th>e</th>\n",
       "    </tr>\n",
       "    <tr>\n",
       "      <th>detail_title</th>\n",
       "      <th></th>\n",
       "    </tr>\n",
       "  </thead>\n",
       "  <tbody>\n",
       "    <tr>\n",
       "      <th>FALL VICTIM</th>\n",
       "      <td>34668</td>\n",
       "    </tr>\n",
       "    <tr>\n",
       "      <th>RESPIRATORY EMERGENCY</th>\n",
       "      <td>34239</td>\n",
       "    </tr>\n",
       "    <tr>\n",
       "      <th>CARDIAC EMERGENCY</th>\n",
       "      <td>32322</td>\n",
       "    </tr>\n",
       "    <tr>\n",
       "      <th>VEHICLE ACCIDENT</th>\n",
       "      <td>25462</td>\n",
       "    </tr>\n",
       "    <tr>\n",
       "      <th>SUBJECT IN PAIN</th>\n",
       "      <td>19640</td>\n",
       "    </tr>\n",
       "    <tr>\n",
       "      <th>HEAD INJURY</th>\n",
       "      <td>18298</td>\n",
       "    </tr>\n",
       "    <tr>\n",
       "      <th>GENERAL WEAKNESS</th>\n",
       "      <td>11865</td>\n",
       "    </tr>\n",
       "    <tr>\n",
       "      <th>SEIZURES</th>\n",
       "      <td>10819</td>\n",
       "    </tr>\n",
       "    <tr>\n",
       "      <th>SYNCOPAL EPISODE</th>\n",
       "      <td>10803</td>\n",
       "    </tr>\n",
       "    <tr>\n",
       "      <th>UNKNOWN MEDICAL EMERGENCY</th>\n",
       "      <td>10668</td>\n",
       "    </tr>\n",
       "  </tbody>\n",
       "</table>\n",
       "</div>"
      ],
      "text/plain": [
       "                               e\n",
       "detail_title                    \n",
       "FALL VICTIM                34668\n",
       "RESPIRATORY EMERGENCY      34239\n",
       "CARDIAC EMERGENCY          32322\n",
       "VEHICLE ACCIDENT           25462\n",
       "SUBJECT IN PAIN            19640\n",
       "HEAD INJURY                18298\n",
       "GENERAL WEAKNESS           11865\n",
       "SEIZURES                   10819\n",
       "SYNCOPAL EPISODE           10803\n",
       "UNKNOWN MEDICAL EMERGENCY  10668"
      ]
     },
     "execution_count": 21,
     "metadata": {},
     "output_type": "execute_result"
    }
   ],
   "source": [
    "print(f'Terdapat sekitar {emergency_ems.nunique()[0]} jenis atau tipe panggilan dari kategori EMS.')\n",
    "print(f'Adapun urutan 10 teratas jenis panggilan dari kategori EMS ialah :')\n",
    "emergency_ems.pivot_table(index='detail_title', aggfunc=np.sum).sort_values(by='e', ascending=False).head(10)"
   ]
  },
  {
   "cell_type": "code",
   "execution_count": 22,
   "metadata": {},
   "outputs": [],
   "source": [
    "emergency_fire = emergency[emergency['general_title']=='Fire'][['detail_title', 'e']]"
   ]
  },
  {
   "cell_type": "code",
   "execution_count": 23,
   "metadata": {},
   "outputs": [
    {
     "name": "stdout",
     "output_type": "stream",
     "text": [
      "Terdapat sekitar 60 jenis atau tipe panggilan dari kategori Fire.\n",
      "Adapun urutan 10 teratas jenis panggilan dari kategori Fire ialah :\n"
     ]
    },
    {
     "data": {
      "text/html": [
       "<div>\n",
       "<style scoped>\n",
       "    .dataframe tbody tr th:only-of-type {\n",
       "        vertical-align: middle;\n",
       "    }\n",
       "\n",
       "    .dataframe tbody tr th {\n",
       "        vertical-align: top;\n",
       "    }\n",
       "\n",
       "    .dataframe thead th {\n",
       "        text-align: right;\n",
       "    }\n",
       "</style>\n",
       "<table border=\"1\" class=\"dataframe\">\n",
       "  <thead>\n",
       "    <tr style=\"text-align: right;\">\n",
       "      <th></th>\n",
       "      <th>e</th>\n",
       "    </tr>\n",
       "    <tr>\n",
       "      <th>detail_title</th>\n",
       "      <th></th>\n",
       "    </tr>\n",
       "  </thead>\n",
       "  <tbody>\n",
       "    <tr>\n",
       "      <th>FIRE ALARM</th>\n",
       "      <td>38328</td>\n",
       "    </tr>\n",
       "    <tr>\n",
       "      <th>VEHICLE ACCIDENT</th>\n",
       "      <td>10828</td>\n",
       "    </tr>\n",
       "    <tr>\n",
       "      <th>FIRE INVESTIGATION</th>\n",
       "      <td>9441</td>\n",
       "    </tr>\n",
       "    <tr>\n",
       "      <th>GAS-ODOR/LEAK</th>\n",
       "      <td>6738</td>\n",
       "    </tr>\n",
       "    <tr>\n",
       "      <th>ELECTRICAL FIRE OUTSIDE</th>\n",
       "      <td>5110</td>\n",
       "    </tr>\n",
       "    <tr>\n",
       "      <th>BUILDING FIRE</th>\n",
       "      <td>4753</td>\n",
       "    </tr>\n",
       "    <tr>\n",
       "      <th>FIRE SPECIAL SERVICE</th>\n",
       "      <td>4048</td>\n",
       "    </tr>\n",
       "    <tr>\n",
       "      <th>CARBON MONOXIDE DETECTOR</th>\n",
       "      <td>3990</td>\n",
       "    </tr>\n",
       "    <tr>\n",
       "      <th>VEHICLE FIRE</th>\n",
       "      <td>3227</td>\n",
       "    </tr>\n",
       "    <tr>\n",
       "      <th>WOODS/FIELD FIRE</th>\n",
       "      <td>2485</td>\n",
       "    </tr>\n",
       "  </tbody>\n",
       "</table>\n",
       "</div>"
      ],
      "text/plain": [
       "                              e\n",
       "detail_title                   \n",
       "FIRE ALARM                38328\n",
       "VEHICLE ACCIDENT          10828\n",
       "FIRE INVESTIGATION         9441\n",
       "GAS-ODOR/LEAK              6738\n",
       "ELECTRICAL FIRE OUTSIDE    5110\n",
       "BUILDING FIRE              4753\n",
       "FIRE SPECIAL SERVICE       4048\n",
       "CARBON MONOXIDE DETECTOR   3990\n",
       "VEHICLE FIRE               3227\n",
       "WOODS/FIELD FIRE           2485"
      ]
     },
     "execution_count": 23,
     "metadata": {},
     "output_type": "execute_result"
    }
   ],
   "source": [
    "print(f'Terdapat sekitar {emergency_fire.nunique()[0]} jenis atau tipe panggilan dari kategori Fire.')\n",
    "print(f'Adapun urutan 10 teratas jenis panggilan dari kategori Fire ialah :')\n",
    "emergency_fire.pivot_table(index='detail_title', aggfunc=np.sum).sort_values(by='e', ascending=False).head(10)"
   ]
  },
  {
   "cell_type": "code",
   "execution_count": 24,
   "metadata": {},
   "outputs": [],
   "source": [
    "emergency_traffic = emergency[emergency['general_title']=='Traffic'][['detail_title','e']]"
   ]
  },
  {
   "cell_type": "code",
   "execution_count": 25,
   "metadata": {},
   "outputs": [
    {
     "name": "stdout",
     "output_type": "stream",
     "text": [
      "Terdapat sekitar 7 jenis atau tipe panggilan dari kategori Traffic.\n",
      "Adapun urutan dari jenis panggilan kategori Traffic ialah :\n"
     ]
    },
    {
     "data": {
      "text/html": [
       "<div>\n",
       "<style scoped>\n",
       "    .dataframe tbody tr th:only-of-type {\n",
       "        vertical-align: middle;\n",
       "    }\n",
       "\n",
       "    .dataframe tbody tr th {\n",
       "        vertical-align: top;\n",
       "    }\n",
       "\n",
       "    .dataframe thead th {\n",
       "        text-align: right;\n",
       "    }\n",
       "</style>\n",
       "<table border=\"1\" class=\"dataframe\">\n",
       "  <thead>\n",
       "    <tr style=\"text-align: right;\">\n",
       "      <th></th>\n",
       "      <th>e</th>\n",
       "    </tr>\n",
       "    <tr>\n",
       "      <th>detail_title</th>\n",
       "      <th></th>\n",
       "    </tr>\n",
       "  </thead>\n",
       "  <tbody>\n",
       "    <tr>\n",
       "      <th>VEHICLE ACCIDENT -</th>\n",
       "      <td>148371</td>\n",
       "    </tr>\n",
       "    <tr>\n",
       "      <th>DISABLED VEHICLE -</th>\n",
       "      <td>47907</td>\n",
       "    </tr>\n",
       "    <tr>\n",
       "      <th>ROAD OBSTRUCTION -</th>\n",
       "      <td>23235</td>\n",
       "    </tr>\n",
       "    <tr>\n",
       "      <th>HAZARDOUS ROAD CONDITIONS -</th>\n",
       "      <td>6832</td>\n",
       "    </tr>\n",
       "    <tr>\n",
       "      <th>VEHICLE FIRE -</th>\n",
       "      <td>3366</td>\n",
       "    </tr>\n",
       "    <tr>\n",
       "      <th>VEHICLE LEAKING FUEL -</th>\n",
       "      <td>292</td>\n",
       "    </tr>\n",
       "    <tr>\n",
       "      <th>DEBRIS/FLUIDS ON HIGHWAY -</th>\n",
       "      <td>201</td>\n",
       "    </tr>\n",
       "  </tbody>\n",
       "</table>\n",
       "</div>"
      ],
      "text/plain": [
       "                                  e\n",
       "detail_title                       \n",
       "VEHICLE ACCIDENT -           148371\n",
       "DISABLED VEHICLE -            47907\n",
       "ROAD OBSTRUCTION -            23235\n",
       "HAZARDOUS ROAD CONDITIONS -    6832\n",
       "VEHICLE FIRE -                 3366\n",
       "VEHICLE LEAKING FUEL -          292\n",
       "DEBRIS/FLUIDS ON HIGHWAY -      201"
      ]
     },
     "execution_count": 25,
     "metadata": {},
     "output_type": "execute_result"
    }
   ],
   "source": [
    "print(f'Terdapat sekitar {emergency_traffic.nunique()[0]} jenis atau tipe panggilan dari kategori Traffic.')\n",
    "print(f'Adapun urutan dari jenis panggilan kategori Traffic ialah :')\n",
    "emergency_traffic.pivot_table(index='detail_title', aggfunc=np.sum).sort_values(by='e', ascending=False)"
   ]
  },
  {
   "cell_type": "markdown",
   "metadata": {},
   "source": [
    "Meskipun kasus dari kategori `Traffic` berjumlah lebih sedikit dibandingkan dengan dua kategori lainnya. Namun, jumlah kasus terbanyak dari keseluruhan jenis atau tipe di kategori berada pada kategori `Traffic` dengan detail panggilannya ialah `VEHICLE ACCIDENT`."
   ]
  },
  {
   "cell_type": "markdown",
   "metadata": {},
   "source": [
    "### Number of Cases per Townships"
   ]
  },
  {
   "cell_type": "code",
   "execution_count": 26,
   "metadata": {},
   "outputs": [],
   "source": [
    "emergency_twp = emergency[['twp', 'e']].copy()\n",
    "emergency_twp.rename(columns={'e':'count'}, inplace=True)\n",
    "top_twp = emergency_twp.pivot_table(index='twp', aggfunc=np.sum).sort_values(by='count', ascending=False).head(10)"
   ]
  },
  {
   "cell_type": "code",
   "execution_count": 27,
   "metadata": {},
   "outputs": [],
   "source": [
    "# List of color for bar plot\n",
    "color=['gray', 'brown', 'coral', 'sandybrown', 'goldenrod',\n",
    "       'chartreuse', 'lightseagreen', 'steelblue', 'indigo', 'deeppink']"
   ]
  },
  {
   "cell_type": "code",
   "execution_count": 28,
   "metadata": {},
   "outputs": [
    {
     "data": {
      "image/png": "[encoded data removed]",
      "text/plain": [
       "<Figure size 1080x720 with 1 Axes>"
      ]
     },
     "metadata": {
      "needs_background": "light"
     },
     "output_type": "display_data"
    }
   ],
   "source": [
    "plt.figure(figsize=(15,10))\n",
    "plt.bar(x=top_twp.index, height=top_twp['count'], color=color)\n",
    "plt.title('Top 10 Cities for Most Emergency Calls in Dec 2015-Jul 2020', loc='left', fontdict={'fontsize':13})\n",
    "plt.xlabel('Township', fontsize=13)\n",
    "plt.xticks(rotation=90, fontsize=13)\n",
    "plt.yticks(fontsize=13)\n",
    "plt.show()"
   ]
  },
  {
   "cell_type": "markdown",
   "metadata": {},
   "source": [
    "Sekarang kita coba cari tahu kategori _emergency call_ di masing-masing `twp`."
   ]
  },
  {
   "cell_type": "code",
   "execution_count": 29,
   "metadata": {},
   "outputs": [],
   "source": [
    "# New dataframe from slicing top 10 twp by number of cases\n",
    "list_twp = top_twp.index.values\n",
    "twp_title = emergency.set_index('twp')\n",
    "twp_title = twp_title.loc[list_twp][['general_title', 'e']].copy()\n",
    "\n",
    "# Pivot table by twp-general_title with sum method\n",
    "twp_title = twp_title.pivot_table(index=twp_title.index, columns='general_title', values='e', aggfunc=np.sum)"
   ]
  },
  {
   "cell_type": "code",
   "execution_count": 30,
   "metadata": {},
   "outputs": [
    {
     "data": {
      "image/png": "[encoded data removed]",
      "text/plain": [
       "<Figure size 1080x720 with 1 Axes>"
      ]
     },
     "metadata": {
      "needs_background": "light"
     },
     "output_type": "display_data"
    }
   ],
   "source": [
    "twp_title.plot.bar(figsize=(15,10), fontsize=13, stacked=True, rot=30)\n",
    "plt.title('Top 10 Cities with Title in Dec 2015-Jul 2020', fontsize=13)\n",
    "plt.xlabel('Township', fontsize=13)\n",
    "plt.xticks(rotation=90)\n",
    "plt.ylabel('Number of Cases', fontsize=13)\n",
    "plt.show()"
   ]
  },
  {
   "cell_type": "markdown",
   "metadata": {},
   "source": [
    "Dari info yang kita dapatkan sebelumnya, diketahui bahwa kategori `EMS` dan `Traffic` memiliki kontribusi yang besar di tiap bulannya. Setelah kita cek, `LOWER MERION` dan `NORRISTOWN` merupakan kota atau kabupaten yang termasuk tiga besar dengan jumlah _emergency call_ terbanyak. Jika dibandingkan dengan kota atau kabupaten lainnya dari 10 besar tersebut, berturut-turut `LOWER MERION` dan `NORRISTOWN` memiliki jumlah kasus dari kategori `Traffic` dan `EMS` yang lebih banyak."
   ]
  },
  {
   "cell_type": "code",
   "execution_count": null,
   "metadata": {},
   "outputs": [],
   "source": []
  }
 ],
 "metadata": {
  "kernelspec": {
   "display_name": "Python 3",
   "language": "python",
   "name": "python3"
  },
  "language_info": {
   "codemirror_mode": {
    "name": "ipython",
    "version": 3
   },
   "file_extension": ".py",
   "mimetype": "text/x-python",
   "name": "python",
   "nbconvert_exporter": "python",
   "pygments_lexer": "ipython3",
   "version": "3.8.3"
  }
 },
 "nbformat": 4,
 "nbformat_minor": 4
}
