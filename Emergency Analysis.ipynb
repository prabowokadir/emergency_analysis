{
 "cells": [
  {
   "cell_type": "markdown",
   "metadata": {},
   "source": [
    "# Emergency Analysis"
   ]
  },
  {
   "cell_type": "markdown",
   "metadata": {},
   "source": [
    "Data dibawah merupakan data _emergency call_ dari Montgomery County, PA."
   ]
  },
  {
   "cell_type": "markdown",
   "metadata": {},
   "source": [
    "## Data Preparation"
   ]
  },
  {
   "cell_type": "code",
   "execution_count": 1,
   "metadata": {},
   "outputs": [],
   "source": [
    "import pandas as pd\n",
    "import numpy as np"
   ]
  },
  {
   "cell_type": "code",
   "execution_count": 2,
   "metadata": {},
   "outputs": [
    {
     "data": {
      "text/html": [
       "<div>\n",
       "<style scoped>\n",
       "    .dataframe tbody tr th:only-of-type {\n",
       "        vertical-align: middle;\n",
       "    }\n",
       "\n",
       "    .dataframe tbody tr th {\n",
       "        vertical-align: top;\n",
       "    }\n",
       "\n",
       "    .dataframe thead th {\n",
       "        text-align: right;\n",
       "    }\n",
       "</style>\n",
       "<table border=\"1\" class=\"dataframe\">\n",
       "  <thead>\n",
       "    <tr style=\"text-align: right;\">\n",
       "      <th></th>\n",
       "      <th>lat</th>\n",
       "      <th>lng</th>\n",
       "      <th>desc</th>\n",
       "      <th>zip</th>\n",
       "      <th>title</th>\n",
       "      <th>timeStamp</th>\n",
       "      <th>twp</th>\n",
       "      <th>addr</th>\n",
       "      <th>e</th>\n",
       "    </tr>\n",
       "  </thead>\n",
       "  <tbody>\n",
       "    <tr>\n",
       "      <th>0</th>\n",
       "      <td>40.297876</td>\n",
       "      <td>-75.581294</td>\n",
       "      <td>REINDEER CT &amp; DEAD END;  NEW HANOVER; Station ...</td>\n",
       "      <td>19525.0</td>\n",
       "      <td>EMS: BACK PAINS/INJURY</td>\n",
       "      <td>2015-12-10 17:10:52</td>\n",
       "      <td>NEW HANOVER</td>\n",
       "      <td>REINDEER CT &amp; DEAD END</td>\n",
       "      <td>1</td>\n",
       "    </tr>\n",
       "    <tr>\n",
       "      <th>1</th>\n",
       "      <td>40.258061</td>\n",
       "      <td>-75.264680</td>\n",
       "      <td>BRIAR PATH &amp; WHITEMARSH LN;  HATFIELD TOWNSHIP...</td>\n",
       "      <td>19446.0</td>\n",
       "      <td>EMS: DIABETIC EMERGENCY</td>\n",
       "      <td>2015-12-10 17:29:21</td>\n",
       "      <td>HATFIELD TOWNSHIP</td>\n",
       "      <td>BRIAR PATH &amp; WHITEMARSH LN</td>\n",
       "      <td>1</td>\n",
       "    </tr>\n",
       "    <tr>\n",
       "      <th>2</th>\n",
       "      <td>40.121182</td>\n",
       "      <td>-75.351975</td>\n",
       "      <td>HAWS AVE; NORRISTOWN; 2015-12-10 @ 14:39:21-St...</td>\n",
       "      <td>19401.0</td>\n",
       "      <td>Fire: GAS-ODOR/LEAK</td>\n",
       "      <td>2015-12-10 14:39:21</td>\n",
       "      <td>NORRISTOWN</td>\n",
       "      <td>HAWS AVE</td>\n",
       "      <td>1</td>\n",
       "    </tr>\n",
       "    <tr>\n",
       "      <th>3</th>\n",
       "      <td>40.116153</td>\n",
       "      <td>-75.343513</td>\n",
       "      <td>AIRY ST &amp; SWEDE ST;  NORRISTOWN; Station 308A;...</td>\n",
       "      <td>19401.0</td>\n",
       "      <td>EMS: CARDIAC EMERGENCY</td>\n",
       "      <td>2015-12-10 16:47:36</td>\n",
       "      <td>NORRISTOWN</td>\n",
       "      <td>AIRY ST &amp; SWEDE ST</td>\n",
       "      <td>1</td>\n",
       "    </tr>\n",
       "    <tr>\n",
       "      <th>4</th>\n",
       "      <td>40.251492</td>\n",
       "      <td>-75.603350</td>\n",
       "      <td>CHERRYWOOD CT &amp; DEAD END;  LOWER POTTSGROVE; S...</td>\n",
       "      <td>NaN</td>\n",
       "      <td>EMS: DIZZINESS</td>\n",
       "      <td>2015-12-10 16:56:52</td>\n",
       "      <td>LOWER POTTSGROVE</td>\n",
       "      <td>CHERRYWOOD CT &amp; DEAD END</td>\n",
       "      <td>1</td>\n",
       "    </tr>\n",
       "  </tbody>\n",
       "</table>\n",
       "</div>"
      ],
      "text/plain": [
       "         lat        lng                                               desc  \\\n",
       "0  40.297876 -75.581294  REINDEER CT & DEAD END;  NEW HANOVER; Station ...   \n",
       "1  40.258061 -75.264680  BRIAR PATH & WHITEMARSH LN;  HATFIELD TOWNSHIP...   \n",
       "2  40.121182 -75.351975  HAWS AVE; NORRISTOWN; 2015-12-10 @ 14:39:21-St...   \n",
       "3  40.116153 -75.343513  AIRY ST & SWEDE ST;  NORRISTOWN; Station 308A;...   \n",
       "4  40.251492 -75.603350  CHERRYWOOD CT & DEAD END;  LOWER POTTSGROVE; S...   \n",
       "\n",
       "       zip                    title            timeStamp                twp  \\\n",
       "0  19525.0   EMS: BACK PAINS/INJURY  2015-12-10 17:10:52        NEW HANOVER   \n",
       "1  19446.0  EMS: DIABETIC EMERGENCY  2015-12-10 17:29:21  HATFIELD TOWNSHIP   \n",
       "2  19401.0      Fire: GAS-ODOR/LEAK  2015-12-10 14:39:21         NORRISTOWN   \n",
       "3  19401.0   EMS: CARDIAC EMERGENCY  2015-12-10 16:47:36         NORRISTOWN   \n",
       "4      NaN           EMS: DIZZINESS  2015-12-10 16:56:52   LOWER POTTSGROVE   \n",
       "\n",
       "                         addr  e  \n",
       "0      REINDEER CT & DEAD END  1  \n",
       "1  BRIAR PATH & WHITEMARSH LN  1  \n",
       "2                    HAWS AVE  1  \n",
       "3          AIRY ST & SWEDE ST  1  \n",
       "4    CHERRYWOOD CT & DEAD END  1  "
      ]
     },
     "execution_count": 2,
     "metadata": {},
     "output_type": "execute_result"
    }
   ],
   "source": [
    "emergency = pd.read_csv('911.csv')\n",
    "emergency.head()"
   ]
  },
  {
   "cell_type": "markdown",
   "metadata": {},
   "source": [
    "Penjelasan dari kolom (feature) di atas ialah :\n",
    "* `lat` dan `lng` merupakan garis horizontal dan lintang yang menunjukkan titik lokasi dari _emergency call_ dibuat.\n",
    "* `zip` adalah kode pos dari lokasi _emergency call_.\n",
    "* `title` ialah jenis _emergency call_ beserta dengan informasi detailnya.\n",
    "* `timeStamp` adalah waktu saat panggilan tersebut diposting.\n",
    "* `twp` merupakan kota atau kabupaten dari _emergency call_.\n",
    "* `addr` adalah alamat spesifik dari panggilan tersebut."
   ]
  },
  {
   "cell_type": "code",
   "execution_count": 3,
   "metadata": {},
   "outputs": [
    {
     "data": {
      "text/plain": [
       "(663522, 9)"
      ]
     },
     "execution_count": 3,
     "metadata": {},
     "output_type": "execute_result"
    }
   ],
   "source": [
    "emergency.shape"
   ]
  },
  {
   "cell_type": "markdown",
   "metadata": {},
   "source": [
    "Dataset terdiri dari 663522 baris dan 9 kolom."
   ]
  },
  {
   "cell_type": "code",
   "execution_count": 4,
   "metadata": {
    "scrolled": true
   },
   "outputs": [
    {
     "name": "stdout",
     "output_type": "stream",
     "text": [
      "<class 'pandas.core.frame.DataFrame'>\n",
      "RangeIndex: 663522 entries, 0 to 663521\n",
      "Data columns (total 9 columns):\n",
      " #   Column     Non-Null Count   Dtype  \n",
      "---  ------     --------------   -----  \n",
      " 0   lat        663522 non-null  float64\n",
      " 1   lng        663522 non-null  float64\n",
      " 2   desc       663522 non-null  object \n",
      " 3   zip        583323 non-null  float64\n",
      " 4   title      663522 non-null  object \n",
      " 5   timeStamp  663522 non-null  object \n",
      " 6   twp        663229 non-null  object \n",
      " 7   addr       663522 non-null  object \n",
      " 8   e          663522 non-null  int64  \n",
      "dtypes: float64(3), int64(1), object(5)\n",
      "memory usage: 45.6+ MB\n"
     ]
    }
   ],
   "source": [
    "emergency.info()"
   ]
  },
  {
   "cell_type": "markdown",
   "metadata": {},
   "source": [
    "Beberapa info yang kita dapatkan di antaranya :\n",
    "* Dataset secara general didominasi oleh tipe data `object`.\n",
    "* Selain itu, jenis tipe data lainnya ialah `float64` dan `int64`.\n",
    "* Kolom `timeStamp` harus dikonversi menjadi tipe data `datetime64`.\n",
    "* `zip` dan `twp` memiliki beberapa baris dengan _missing values_."
   ]
  },
  {
   "cell_type": "markdown",
   "metadata": {},
   "source": [
    "## Data Cleansing and Manipulation"
   ]
  },
  {
   "cell_type": "code",
   "execution_count": 5,
   "metadata": {},
   "outputs": [
    {
     "data": {
      "text/html": [
       "<style  type=\"text/css\" >\n",
       "    #T_9ef98ff5_4e4a_11eb_a71c_b06ebf239631row0_col0 {\n",
       "            background-color:  #08306b;\n",
       "            color:  #f1f1f1;\n",
       "        }    #T_9ef98ff5_4e4a_11eb_a71c_b06ebf239631row0_col1 {\n",
       "            background-color:  #08306b;\n",
       "            color:  #f1f1f1;\n",
       "        }    #T_9ef98ff5_4e4a_11eb_a71c_b06ebf239631row1_col0 {\n",
       "            background-color:  #f7fbff;\n",
       "            color:  #000000;\n",
       "        }    #T_9ef98ff5_4e4a_11eb_a71c_b06ebf239631row1_col1 {\n",
       "            background-color:  #f7fbff;\n",
       "            color:  #000000;\n",
       "        }</style><table id=\"T_9ef98ff5_4e4a_11eb_a71c_b06ebf239631\" ><thead>    <tr>        <th class=\"blank level0\" ></th>        <th class=\"col_heading level0 col0\" >missing_rows</th>        <th class=\"col_heading level0 col1\" >percentage</th>    </tr></thead><tbody>\n",
       "                <tr>\n",
       "                        <th id=\"T_9ef98ff5_4e4a_11eb_a71c_b06ebf239631level0_row0\" class=\"row_heading level0 row0\" >zip</th>\n",
       "                        <td id=\"T_9ef98ff5_4e4a_11eb_a71c_b06ebf239631row0_col0\" class=\"data row0 col0\" >80199</td>\n",
       "                        <td id=\"T_9ef98ff5_4e4a_11eb_a71c_b06ebf239631row0_col1\" class=\"data row0 col1\" >12.087000</td>\n",
       "            </tr>\n",
       "            <tr>\n",
       "                        <th id=\"T_9ef98ff5_4e4a_11eb_a71c_b06ebf239631level0_row1\" class=\"row_heading level0 row1\" >twp</th>\n",
       "                        <td id=\"T_9ef98ff5_4e4a_11eb_a71c_b06ebf239631row1_col0\" class=\"data row1 col0\" >293</td>\n",
       "                        <td id=\"T_9ef98ff5_4e4a_11eb_a71c_b06ebf239631row1_col1\" class=\"data row1 col1\" >0.044000</td>\n",
       "            </tr>\n",
       "    </tbody></table>"
      ],
      "text/plain": [
       "<pandas.io.formats.style.Styler at 0x190f74eaf70>"
      ]
     },
     "execution_count": 5,
     "metadata": {},
     "output_type": "execute_result"
    }
   ],
   "source": [
    "# Check for missing values\n",
    "null_col = emergency.columns[emergency.isnull().any()]\n",
    "\n",
    "null_emergency = emergency[null_col].isnull().sum().rename('missing_rows').to_frame()\n",
    "null_emergency['percentage'] = round((null_emergency['missing_rows']/emergency.shape[0])*100, 3)\n",
    "\n",
    "null_emergency.sort_values('missing_rows', ascending=False).style.background_gradient('Blues')"
   ]
  },
  {
   "cell_type": "markdown",
   "metadata": {},
   "source": [
    "* Hanya `zip` dan `twp` yang memiliki _missing values_.\n",
    "* Baris dengan _missing values_ dari kolom `twp` bisa kita buang dari dataset.\n",
    "* Sementara kolom `zip` bisa kita buang dari dataset karena tidak akan kita gunakan dalam proses analisis."
   ]
  },
  {
   "cell_type": "code",
   "execution_count": 6,
   "metadata": {},
   "outputs": [],
   "source": [
    "# Drop column zip from dataset\n",
    "emergency.drop('zip', axis=1, inplace=True)"
   ]
  },
  {
   "cell_type": "code",
   "execution_count": 7,
   "metadata": {},
   "outputs": [],
   "source": [
    "# Drop row with missing values\n",
    "emergency.dropna(axis=0, inplace=True)\n",
    "emergency.reset_index(drop=True, inplace=True)"
   ]
  },
  {
   "cell_type": "code",
   "execution_count": 8,
   "metadata": {},
   "outputs": [],
   "source": [
    "# Convert dtype of timeStamp\n",
    "emergency['timeStamp'] = emergency['timeStamp'].astype('datetime64')"
   ]
  },
  {
   "cell_type": "markdown",
   "metadata": {},
   "source": [
    "Pada tahap selanjutnya, kita akan melakukan manipulasi data terhadap kolom `title`."
   ]
  },
  {
   "cell_type": "markdown",
   "metadata": {},
   "source": [
    "Dari kolom `title` kita dapat memunculkan dua kolom baru yaitu jenis panggilan secara umum seperti `EMS`, `Fire`, dan `Traffic`. Satu kolom lagi yaitu detail dari jenis panggilan tersebut. Contohnya untuk `EMS` secara spesifik ialah `BACK PAINS/INJURY`, `DIZZINESS`, dan lain-lain."
   ]
  },
  {
   "cell_type": "code",
   "execution_count": 9,
   "metadata": {},
   "outputs": [],
   "source": [
    "# Split every row in title column with sep=': '\n",
    "split_title = emergency['title'].str.split(': ', n=1, expand=True)\n",
    "\n",
    "# New column general_title and detail_title from title\n",
    "emergency['general_title'] = split_title[0]\n",
    "emergency['detail_title'] = split_title[1]\n",
    "\n",
    "# Drop column title\n",
    "emergency.drop('title', axis=1, inplace=True)"
   ]
  },
  {
   "cell_type": "markdown",
   "metadata": {},
   "source": [
    "Berhubung karena data selama tahun 2015 dan 2020 tidak begitu lengkap, maka kita hanya memilih data dari tahun 2016 hingga 2019."
   ]
  },
  {
   "cell_type": "code",
   "execution_count": 10,
   "metadata": {},
   "outputs": [],
   "source": [
    "# Slicing date from 2016-01 to 2019-12\n",
    "condition = (emergency['timeStamp'] >= '2016-01') & (emergency['timeStamp'] < '2020')\n",
    "\n",
    "# New dataframe from slicing row\n",
    "emergency = emergency[condition].reset_index(drop=True)"
   ]
  },
  {
   "cell_type": "code",
   "execution_count": 11,
   "metadata": {},
   "outputs": [
    {
     "data": {
      "text/html": [
       "<div>\n",
       "<style scoped>\n",
       "    .dataframe tbody tr th:only-of-type {\n",
       "        vertical-align: middle;\n",
       "    }\n",
       "\n",
       "    .dataframe tbody tr th {\n",
       "        vertical-align: top;\n",
       "    }\n",
       "\n",
       "    .dataframe thead th {\n",
       "        text-align: right;\n",
       "    }\n",
       "</style>\n",
       "<table border=\"1\" class=\"dataframe\">\n",
       "  <thead>\n",
       "    <tr style=\"text-align: right;\">\n",
       "      <th></th>\n",
       "      <th>lat</th>\n",
       "      <th>lng</th>\n",
       "      <th>desc</th>\n",
       "      <th>timeStamp</th>\n",
       "      <th>twp</th>\n",
       "      <th>addr</th>\n",
       "      <th>e</th>\n",
       "      <th>general_title</th>\n",
       "      <th>detail_title</th>\n",
       "    </tr>\n",
       "  </thead>\n",
       "  <tbody>\n",
       "    <tr>\n",
       "      <th>0</th>\n",
       "      <td>40.121354</td>\n",
       "      <td>-75.363829</td>\n",
       "      <td>ROSEMONT AVE &amp; W WASHINGTON ST;  NORRISTOWN; S...</td>\n",
       "      <td>2016-01-01 00:10:08</td>\n",
       "      <td>NORRISTOWN</td>\n",
       "      <td>ROSEMONT AVE &amp; W WASHINGTON ST</td>\n",
       "      <td>1</td>\n",
       "      <td>EMS</td>\n",
       "      <td>ASSAULT VICTIM</td>\n",
       "    </tr>\n",
       "    <tr>\n",
       "      <th>1</th>\n",
       "      <td>40.140505</td>\n",
       "      <td>-75.310874</td>\n",
       "      <td>GERMANTOWN PIKE &amp; HANNAH AVE;  EAST NORRITON; ...</td>\n",
       "      <td>2016-01-01 00:14:45</td>\n",
       "      <td>EAST NORRITON</td>\n",
       "      <td>GERMANTOWN PIKE &amp; HANNAH AVE</td>\n",
       "      <td>1</td>\n",
       "      <td>EMS</td>\n",
       "      <td>FALL VICTIM</td>\n",
       "    </tr>\n",
       "    <tr>\n",
       "      <th>2</th>\n",
       "      <td>40.246837</td>\n",
       "      <td>-75.681381</td>\n",
       "      <td>VINE ST &amp; CENTER ST;  WEST POTTSGROVE; Station...</td>\n",
       "      <td>2016-01-01 00:20:43</td>\n",
       "      <td>WEST POTTSGROVE</td>\n",
       "      <td>VINE ST &amp; CENTER ST</td>\n",
       "      <td>1</td>\n",
       "      <td>EMS</td>\n",
       "      <td>ABDOMINAL PAINS</td>\n",
       "    </tr>\n",
       "    <tr>\n",
       "      <th>3</th>\n",
       "      <td>40.097222</td>\n",
       "      <td>-75.376195</td>\n",
       "      <td>MARK LN &amp; DEAD END;  UPPER MERION; Station 317...</td>\n",
       "      <td>2016-01-01 00:25:30</td>\n",
       "      <td>UPPER MERION</td>\n",
       "      <td>MARK LN &amp; DEAD END</td>\n",
       "      <td>1</td>\n",
       "      <td>EMS</td>\n",
       "      <td>ALTERED MENTAL STATUS</td>\n",
       "    </tr>\n",
       "    <tr>\n",
       "      <th>4</th>\n",
       "      <td>40.148432</td>\n",
       "      <td>-75.219812</td>\n",
       "      <td>BANNOCKBURN AVE &amp; S SPRING GARDEN ST;  AMBLER;...</td>\n",
       "      <td>2016-01-01 00:30:28</td>\n",
       "      <td>AMBLER</td>\n",
       "      <td>BANNOCKBURN AVE &amp; S SPRING GARDEN ST</td>\n",
       "      <td>1</td>\n",
       "      <td>EMS</td>\n",
       "      <td>DIABETIC EMERGENCY</td>\n",
       "    </tr>\n",
       "  </tbody>\n",
       "</table>\n",
       "</div>"
      ],
      "text/plain": [
       "         lat        lng                                               desc  \\\n",
       "0  40.121354 -75.363829  ROSEMONT AVE & W WASHINGTON ST;  NORRISTOWN; S...   \n",
       "1  40.140505 -75.310874  GERMANTOWN PIKE & HANNAH AVE;  EAST NORRITON; ...   \n",
       "2  40.246837 -75.681381  VINE ST & CENTER ST;  WEST POTTSGROVE; Station...   \n",
       "3  40.097222 -75.376195  MARK LN & DEAD END;  UPPER MERION; Station 317...   \n",
       "4  40.148432 -75.219812  BANNOCKBURN AVE & S SPRING GARDEN ST;  AMBLER;...   \n",
       "\n",
       "            timeStamp              twp                                  addr  \\\n",
       "0 2016-01-01 00:10:08       NORRISTOWN        ROSEMONT AVE & W WASHINGTON ST   \n",
       "1 2016-01-01 00:14:45    EAST NORRITON          GERMANTOWN PIKE & HANNAH AVE   \n",
       "2 2016-01-01 00:20:43  WEST POTTSGROVE                   VINE ST & CENTER ST   \n",
       "3 2016-01-01 00:25:30     UPPER MERION                    MARK LN & DEAD END   \n",
       "4 2016-01-01 00:30:28           AMBLER  BANNOCKBURN AVE & S SPRING GARDEN ST   \n",
       "\n",
       "   e general_title           detail_title  \n",
       "0  1           EMS         ASSAULT VICTIM  \n",
       "1  1           EMS            FALL VICTIM  \n",
       "2  1           EMS        ABDOMINAL PAINS  \n",
       "3  1           EMS  ALTERED MENTAL STATUS  \n",
       "4  1           EMS     DIABETIC EMERGENCY  "
      ]
     },
     "execution_count": 11,
     "metadata": {},
     "output_type": "execute_result"
    }
   ],
   "source": [
    "emergency.head()"
   ]
  },
  {
   "cell_type": "markdown",
   "metadata": {},
   "source": [
    "## Exploratory Data Analysis"
   ]
  },
  {
   "cell_type": "markdown",
   "metadata": {},
   "source": [
    "### General Insight"
   ]
  },
  {
   "cell_type": "code",
   "execution_count": 12,
   "metadata": {
    "scrolled": false
   },
   "outputs": [
    {
     "data": {
      "text/html": [
       "<div>\n",
       "<style scoped>\n",
       "    .dataframe tbody tr th:only-of-type {\n",
       "        vertical-align: middle;\n",
       "    }\n",
       "\n",
       "    .dataframe tbody tr th {\n",
       "        vertical-align: top;\n",
       "    }\n",
       "\n",
       "    .dataframe thead th {\n",
       "        text-align: right;\n",
       "    }\n",
       "</style>\n",
       "<table border=\"1\" class=\"dataframe\">\n",
       "  <thead>\n",
       "    <tr style=\"text-align: right;\">\n",
       "      <th></th>\n",
       "      <th>lat</th>\n",
       "      <th>lng</th>\n",
       "      <th>desc</th>\n",
       "      <th>timeStamp</th>\n",
       "      <th>twp</th>\n",
       "      <th>addr</th>\n",
       "      <th>e</th>\n",
       "      <th>general_title</th>\n",
       "      <th>detail_title</th>\n",
       "    </tr>\n",
       "  </thead>\n",
       "  <tbody>\n",
       "    <tr>\n",
       "      <th>count</th>\n",
       "      <td>583103.000000</td>\n",
       "      <td>583103.000000</td>\n",
       "      <td>583103</td>\n",
       "      <td>583103</td>\n",
       "      <td>583103</td>\n",
       "      <td>583103</td>\n",
       "      <td>583103.0</td>\n",
       "      <td>583103</td>\n",
       "      <td>583103</td>\n",
       "    </tr>\n",
       "    <tr>\n",
       "      <th>unique</th>\n",
       "      <td>NaN</td>\n",
       "      <td>NaN</td>\n",
       "      <td>582901</td>\n",
       "      <td>563319</td>\n",
       "      <td>68</td>\n",
       "      <td>39739</td>\n",
       "      <td>NaN</td>\n",
       "      <td>3</td>\n",
       "      <td>94</td>\n",
       "    </tr>\n",
       "    <tr>\n",
       "      <th>top</th>\n",
       "      <td>NaN</td>\n",
       "      <td>NaN</td>\n",
       "      <td>CITY AVE &amp; CARDINAL AVE;  LOWER MERION; Statio...</td>\n",
       "      <td>2018-10-06 19:26:38</td>\n",
       "      <td>LOWER MERION</td>\n",
       "      <td>SHANNONDELL DR &amp; SHANNONDELL BLVD</td>\n",
       "      <td>NaN</td>\n",
       "      <td>EMS</td>\n",
       "      <td>VEHICLE ACCIDENT -</td>\n",
       "    </tr>\n",
       "    <tr>\n",
       "      <th>freq</th>\n",
       "      <td>NaN</td>\n",
       "      <td>NaN</td>\n",
       "      <td>5</td>\n",
       "      <td>9</td>\n",
       "      <td>49572</td>\n",
       "      <td>6172</td>\n",
       "      <td>NaN</td>\n",
       "      <td>288595</td>\n",
       "      <td>134020</td>\n",
       "    </tr>\n",
       "    <tr>\n",
       "      <th>first</th>\n",
       "      <td>NaN</td>\n",
       "      <td>NaN</td>\n",
       "      <td>NaN</td>\n",
       "      <td>2016-01-01 00:10:08</td>\n",
       "      <td>NaN</td>\n",
       "      <td>NaN</td>\n",
       "      <td>NaN</td>\n",
       "      <td>NaN</td>\n",
       "      <td>NaN</td>\n",
       "    </tr>\n",
       "    <tr>\n",
       "      <th>last</th>\n",
       "      <td>NaN</td>\n",
       "      <td>NaN</td>\n",
       "      <td>NaN</td>\n",
       "      <td>2019-12-31 23:50:12</td>\n",
       "      <td>NaN</td>\n",
       "      <td>NaN</td>\n",
       "      <td>NaN</td>\n",
       "      <td>NaN</td>\n",
       "      <td>NaN</td>\n",
       "    </tr>\n",
       "    <tr>\n",
       "      <th>mean</th>\n",
       "      <td>40.158082</td>\n",
       "      <td>-75.306799</td>\n",
       "      <td>NaN</td>\n",
       "      <td>NaN</td>\n",
       "      <td>NaN</td>\n",
       "      <td>NaN</td>\n",
       "      <td>1.0</td>\n",
       "      <td>NaN</td>\n",
       "      <td>NaN</td>\n",
       "    </tr>\n",
       "    <tr>\n",
       "      <th>std</th>\n",
       "      <td>0.172826</td>\n",
       "      <td>1.265243</td>\n",
       "      <td>NaN</td>\n",
       "      <td>NaN</td>\n",
       "      <td>NaN</td>\n",
       "      <td>NaN</td>\n",
       "      <td>0.0</td>\n",
       "      <td>NaN</td>\n",
       "      <td>NaN</td>\n",
       "    </tr>\n",
       "    <tr>\n",
       "      <th>min</th>\n",
       "      <td>0.000000</td>\n",
       "      <td>-119.698206</td>\n",
       "      <td>NaN</td>\n",
       "      <td>NaN</td>\n",
       "      <td>NaN</td>\n",
       "      <td>NaN</td>\n",
       "      <td>1.0</td>\n",
       "      <td>NaN</td>\n",
       "      <td>NaN</td>\n",
       "    </tr>\n",
       "    <tr>\n",
       "      <th>25%</th>\n",
       "      <td>40.099784</td>\n",
       "      <td>-75.391644</td>\n",
       "      <td>NaN</td>\n",
       "      <td>NaN</td>\n",
       "      <td>NaN</td>\n",
       "      <td>NaN</td>\n",
       "      <td>1.0</td>\n",
       "      <td>NaN</td>\n",
       "      <td>NaN</td>\n",
       "    </tr>\n",
       "    <tr>\n",
       "      <th>50%</th>\n",
       "      <td>40.143487</td>\n",
       "      <td>-75.304635</td>\n",
       "      <td>NaN</td>\n",
       "      <td>NaN</td>\n",
       "      <td>NaN</td>\n",
       "      <td>NaN</td>\n",
       "      <td>1.0</td>\n",
       "      <td>NaN</td>\n",
       "      <td>NaN</td>\n",
       "    </tr>\n",
       "    <tr>\n",
       "      <th>75%</th>\n",
       "      <td>40.229008</td>\n",
       "      <td>-75.211812</td>\n",
       "      <td>NaN</td>\n",
       "      <td>NaN</td>\n",
       "      <td>NaN</td>\n",
       "      <td>NaN</td>\n",
       "      <td>1.0</td>\n",
       "      <td>NaN</td>\n",
       "      <td>NaN</td>\n",
       "    </tr>\n",
       "    <tr>\n",
       "      <th>max</th>\n",
       "      <td>51.335390</td>\n",
       "      <td>87.854975</td>\n",
       "      <td>NaN</td>\n",
       "      <td>NaN</td>\n",
       "      <td>NaN</td>\n",
       "      <td>NaN</td>\n",
       "      <td>1.0</td>\n",
       "      <td>NaN</td>\n",
       "      <td>NaN</td>\n",
       "    </tr>\n",
       "  </tbody>\n",
       "</table>\n",
       "</div>"
      ],
      "text/plain": [
       "                  lat            lng  \\\n",
       "count   583103.000000  583103.000000   \n",
       "unique            NaN            NaN   \n",
       "top               NaN            NaN   \n",
       "freq              NaN            NaN   \n",
       "first             NaN            NaN   \n",
       "last              NaN            NaN   \n",
       "mean        40.158082     -75.306799   \n",
       "std          0.172826       1.265243   \n",
       "min          0.000000    -119.698206   \n",
       "25%         40.099784     -75.391644   \n",
       "50%         40.143487     -75.304635   \n",
       "75%         40.229008     -75.211812   \n",
       "max         51.335390      87.854975   \n",
       "\n",
       "                                                     desc  \\\n",
       "count                                              583103   \n",
       "unique                                             582901   \n",
       "top     CITY AVE & CARDINAL AVE;  LOWER MERION; Statio...   \n",
       "freq                                                    5   \n",
       "first                                                 NaN   \n",
       "last                                                  NaN   \n",
       "mean                                                  NaN   \n",
       "std                                                   NaN   \n",
       "min                                                   NaN   \n",
       "25%                                                   NaN   \n",
       "50%                                                   NaN   \n",
       "75%                                                   NaN   \n",
       "max                                                   NaN   \n",
       "\n",
       "                  timeStamp           twp                               addr  \\\n",
       "count                583103        583103                             583103   \n",
       "unique               563319            68                              39739   \n",
       "top     2018-10-06 19:26:38  LOWER MERION  SHANNONDELL DR & SHANNONDELL BLVD   \n",
       "freq                      9         49572                               6172   \n",
       "first   2016-01-01 00:10:08           NaN                                NaN   \n",
       "last    2019-12-31 23:50:12           NaN                                NaN   \n",
       "mean                    NaN           NaN                                NaN   \n",
       "std                     NaN           NaN                                NaN   \n",
       "min                     NaN           NaN                                NaN   \n",
       "25%                     NaN           NaN                                NaN   \n",
       "50%                     NaN           NaN                                NaN   \n",
       "75%                     NaN           NaN                                NaN   \n",
       "max                     NaN           NaN                                NaN   \n",
       "\n",
       "               e general_title        detail_title  \n",
       "count   583103.0        583103              583103  \n",
       "unique       NaN             3                  94  \n",
       "top          NaN           EMS  VEHICLE ACCIDENT -  \n",
       "freq         NaN        288595              134020  \n",
       "first        NaN           NaN                 NaN  \n",
       "last         NaN           NaN                 NaN  \n",
       "mean         1.0           NaN                 NaN  \n",
       "std          0.0           NaN                 NaN  \n",
       "min          1.0           NaN                 NaN  \n",
       "25%          1.0           NaN                 NaN  \n",
       "50%          1.0           NaN                 NaN  \n",
       "75%          1.0           NaN                 NaN  \n",
       "max          1.0           NaN                 NaN  "
      ]
     },
     "execution_count": 12,
     "metadata": {},
     "output_type": "execute_result"
    }
   ],
   "source": [
    "emergency.describe(include='all')"
   ]
  },
  {
   "cell_type": "markdown",
   "metadata": {},
   "source": [
    "Insight yang kita dapatkan dari informasi di atas ialah :\n",
    "* `LOWER MERION` merupakan kota atau kabupaten dengan jumlah kemunculan _emergency call_ terbanyak.\n",
    "* Secara umum, jenis panggilan `EMS` paling banyak melayani _emergency call_ di Montgomery County, PA.\n",
    "* Selain itu, secara spesifik kasus `VEHICLE ACCIDENT` juga banyak terjadi selama kurang lebih empat tahun."
   ]
  },
  {
   "cell_type": "markdown",
   "metadata": {},
   "source": [
    "Untuk memastikan insight yang telah kita dapatkan, akan dibuat analisis untuk beberapa kolom ataupun antar kolom."
   ]
  },
  {
   "cell_type": "code",
   "execution_count": 13,
   "metadata": {},
   "outputs": [],
   "source": [
    "import matplotlib.pyplot as plt"
   ]
  },
  {
   "cell_type": "markdown",
   "metadata": {},
   "source": [
    "### Time Series From Number of Cases"
   ]
  },
  {
   "cell_type": "code",
   "execution_count": 14,
   "metadata": {},
   "outputs": [],
   "source": [
    "time_series = emergency[['timeStamp', 'e']].copy()\n",
    "time_series['date'] = emergency['timeStamp'].dt.date\n",
    "\n",
    "time_series.drop('timeStamp', axis=1, inplace=True)"
   ]
  },
  {
   "cell_type": "code",
   "execution_count": 15,
   "metadata": {},
   "outputs": [],
   "source": [
    "time_series = time_series.pivot_table(index='date', values='e', aggfunc=np.sum)"
   ]
  },
  {
   "cell_type": "code",
   "execution_count": 16,
   "metadata": {},
   "outputs": [
    {
     "data": {
      "image/png": "[encoded data removed]",
      "text/plain": [
       "<Figure size 1080x720 with 1 Axes>"
      ]
     },
     "metadata": {
      "needs_background": "light"
     },
     "output_type": "display_data"
    }
   ],
   "source": [
    "ax = time_series.plot(grid=True, linewidth=1, linestyle='-', figsize=(15,10), fontsize=13)\n",
    "ax.set_xlabel('Date', fontdict={'fontsize':13})\n",
    "ax.set_ylabel('Number of Cases', fontdict={'fontsize':13})\n",
    "ax.set_title('2016-2019 Emergency Call', fontdict={'fontsize':14})\n",
    "plt.show()"
   ]
  },
  {
   "cell_type": "markdown",
   "metadata": {},
   "source": [
    "Selama tahun 2018 terdapat peningkatan _emergency call_ yang cukup signifikan sebanyak dua kali dengan jumlah panggilan berturut-turut ialah kurang lebih 2000 dan 1500 panggilan. Adapun jumlah _emergency call_ tiap tahunnya selalu berada di interval 250 hingga 500 panggilan."
   ]
  },
  {
   "cell_type": "markdown",
   "metadata": {},
   "source": [
    "### Time Series x General Title"
   ]
  },
  {
   "cell_type": "code",
   "execution_count": 17,
   "metadata": {},
   "outputs": [],
   "source": [
    "# New dataframe from slicing columns date, general_title, and e\n",
    "general_title = emergency[['timeStamp', 'general_title', 'e']].copy()\n",
    "general_title['month_year'] = general_title['timeStamp'].dt.to_period('M')\n",
    "\n",
    "general_title.drop('timeStamp', axis=1, inplace=True)"
   ]
  },
  {
   "cell_type": "code",
   "execution_count": 18,
   "metadata": {},
   "outputs": [
    {
     "data": {
      "image/png": "[encoded data removed]",
      "text/plain": [
       "<Figure size 1080x720 with 1 Axes>"
      ]
     },
     "metadata": {
      "needs_background": "light"
     },
     "output_type": "display_data"
    }
   ],
   "source": [
    "# Pivot table by month_year-general_title with sum method\n",
    "general_pivot = general_title.pivot_table(index='month_year', columns='general_title',\n",
    "                                          values='e', aggfunc=np.sum)\n",
    "\n",
    "# Plot pivot table to stacked bar chart\n",
    "general_pivot.plot.bar(figsize=(15,10), fontsize=13, stacked=True)\n",
    "plt.title('Number of Emergency Call For Each Month by General Title', fontsize=14)\n",
    "plt.xlabel('Month - Year', fontsize=13)\n",
    "plt.ylabel('Number of Cases', fontsize=13)\n",
    "plt.show()"
   ]
  },
  {
   "cell_type": "markdown",
   "metadata": {},
   "source": [
    "Kesimpulan yang kita dapatkan dari stacked bar chart di atas ialah `EMS` atau _Emergency Medical Service_ selalu mendominasi jumlah _emergency call_ di setiap bulan selama periode 2016 hingga 2019. Kuantitas _emergency call_ dari `Fire` di tiap bulannya berada di kisaran 1000 hingga 2000 panggilan dan merupakan jenis panggilan dengan total terendah jika dibandingkan dengan `EMS` dan `Traffic`."
   ]
  },
  {
   "cell_type": "markdown",
   "metadata": {},
   "source": [
    "### Detail of Emergency Call"
   ]
  },
  {
   "cell_type": "markdown",
   "metadata": {},
   "source": [
    "Setelah akhirnya kita mengetahui proporsi dari `general_title` di tiap bulannya selama periode 2016 hingga 2019. Selanjutnya kita akan mencari tahu secara spesifik untuk masing-masing variabel pada `general_title`."
   ]
  },
  {
   "cell_type": "code",
   "execution_count": 19,
   "metadata": {},
   "outputs": [],
   "source": [
    "emergency_ems = emergency[emergency['general_title']=='EMS'][['detail_title','e']]"
   ]
  },
  {
   "cell_type": "code",
   "execution_count": 20,
   "metadata": {},
   "outputs": [
    {
     "name": "stdout",
     "output_type": "stream",
     "text": [
      "Terdapat sekitar 80 jenis atau tipe panggilan dari kategori EMS.\n",
      "Adapun urutan 10 teratas jenis panggilan dari kategori EMS ialah :\n"
     ]
    },
    {
     "data": {
      "text/html": [
       "<div>\n",
       "<style scoped>\n",
       "    .dataframe tbody tr th:only-of-type {\n",
       "        vertical-align: middle;\n",
       "    }\n",
       "\n",
       "    .dataframe tbody tr th {\n",
       "        vertical-align: top;\n",
       "    }\n",
       "\n",
       "    .dataframe thead th {\n",
       "        text-align: right;\n",
       "    }\n",
       "</style>\n",
       "<table border=\"1\" class=\"dataframe\">\n",
       "  <thead>\n",
       "    <tr style=\"text-align: right;\">\n",
       "      <th></th>\n",
       "      <th>e</th>\n",
       "    </tr>\n",
       "    <tr>\n",
       "      <th>detail_title</th>\n",
       "      <th></th>\n",
       "    </tr>\n",
       "  </thead>\n",
       "  <tbody>\n",
       "    <tr>\n",
       "      <th>FALL VICTIM</th>\n",
       "      <td>29764</td>\n",
       "    </tr>\n",
       "    <tr>\n",
       "      <th>RESPIRATORY EMERGENCY</th>\n",
       "      <td>29184</td>\n",
       "    </tr>\n",
       "    <tr>\n",
       "      <th>CARDIAC EMERGENCY</th>\n",
       "      <td>28303</td>\n",
       "    </tr>\n",
       "    <tr>\n",
       "      <th>VEHICLE ACCIDENT</th>\n",
       "      <td>22846</td>\n",
       "    </tr>\n",
       "    <tr>\n",
       "      <th>SUBJECT IN PAIN</th>\n",
       "      <td>17116</td>\n",
       "    </tr>\n",
       "    <tr>\n",
       "      <th>HEAD INJURY</th>\n",
       "      <td>15839</td>\n",
       "    </tr>\n",
       "    <tr>\n",
       "      <th>GENERAL WEAKNESS</th>\n",
       "      <td>10145</td>\n",
       "    </tr>\n",
       "    <tr>\n",
       "      <th>SYNCOPAL EPISODE</th>\n",
       "      <td>9566</td>\n",
       "    </tr>\n",
       "    <tr>\n",
       "      <th>SEIZURES</th>\n",
       "      <td>9514</td>\n",
       "    </tr>\n",
       "    <tr>\n",
       "      <th>UNKNOWN MEDICAL EMERGENCY</th>\n",
       "      <td>9415</td>\n",
       "    </tr>\n",
       "  </tbody>\n",
       "</table>\n",
       "</div>"
      ],
      "text/plain": [
       "                               e\n",
       "detail_title                    \n",
       "FALL VICTIM                29764\n",
       "RESPIRATORY EMERGENCY      29184\n",
       "CARDIAC EMERGENCY          28303\n",
       "VEHICLE ACCIDENT           22846\n",
       "SUBJECT IN PAIN            17116\n",
       "HEAD INJURY                15839\n",
       "GENERAL WEAKNESS           10145\n",
       "SYNCOPAL EPISODE            9566\n",
       "SEIZURES                    9514\n",
       "UNKNOWN MEDICAL EMERGENCY   9415"
      ]
     },
     "execution_count": 20,
     "metadata": {},
     "output_type": "execute_result"
    }
   ],
   "source": [
    "print(f'Terdapat sekitar {emergency_ems.nunique()[0]} jenis atau tipe panggilan dari kategori EMS.')\n",
    "print(f'Adapun urutan 10 teratas jenis panggilan dari kategori EMS ialah :')\n",
    "emergency_ems.pivot_table(index='detail_title', aggfunc=np.sum).sort_values(by='e', ascending=False).head(10)"
   ]
  },
  {
   "cell_type": "code",
   "execution_count": 21,
   "metadata": {},
   "outputs": [],
   "source": [
    "emergency_fire = emergency[emergency['general_title']=='Fire'][['detail_title', 'e']]"
   ]
  },
  {
   "cell_type": "code",
   "execution_count": 22,
   "metadata": {},
   "outputs": [
    {
     "name": "stdout",
     "output_type": "stream",
     "text": [
      "Terdapat sekitar 58 jenis atau tipe panggilan dari kategori Fire.\n",
      "Adapun urutan 10 teratas jenis panggilan dari kategori Fire ialah :\n"
     ]
    },
    {
     "data": {
      "text/html": [
       "<div>\n",
       "<style scoped>\n",
       "    .dataframe tbody tr th:only-of-type {\n",
       "        vertical-align: middle;\n",
       "    }\n",
       "\n",
       "    .dataframe tbody tr th {\n",
       "        vertical-align: top;\n",
       "    }\n",
       "\n",
       "    .dataframe thead th {\n",
       "        text-align: right;\n",
       "    }\n",
       "</style>\n",
       "<table border=\"1\" class=\"dataframe\">\n",
       "  <thead>\n",
       "    <tr style=\"text-align: right;\">\n",
       "      <th></th>\n",
       "      <th>e</th>\n",
       "    </tr>\n",
       "    <tr>\n",
       "      <th>detail_title</th>\n",
       "      <th></th>\n",
       "    </tr>\n",
       "  </thead>\n",
       "  <tbody>\n",
       "    <tr>\n",
       "      <th>FIRE ALARM</th>\n",
       "      <td>33592</td>\n",
       "    </tr>\n",
       "    <tr>\n",
       "      <th>VEHICLE ACCIDENT</th>\n",
       "      <td>9646</td>\n",
       "    </tr>\n",
       "    <tr>\n",
       "      <th>FIRE INVESTIGATION</th>\n",
       "      <td>8118</td>\n",
       "    </tr>\n",
       "    <tr>\n",
       "      <th>GAS-ODOR/LEAK</th>\n",
       "      <td>5893</td>\n",
       "    </tr>\n",
       "    <tr>\n",
       "      <th>ELECTRICAL FIRE OUTSIDE</th>\n",
       "      <td>4226</td>\n",
       "    </tr>\n",
       "    <tr>\n",
       "      <th>BUILDING FIRE</th>\n",
       "      <td>4156</td>\n",
       "    </tr>\n",
       "    <tr>\n",
       "      <th>FIRE SPECIAL SERVICE</th>\n",
       "      <td>3498</td>\n",
       "    </tr>\n",
       "    <tr>\n",
       "      <th>CARBON MONOXIDE DETECTOR</th>\n",
       "      <td>3339</td>\n",
       "    </tr>\n",
       "    <tr>\n",
       "      <th>VEHICLE FIRE</th>\n",
       "      <td>2854</td>\n",
       "    </tr>\n",
       "    <tr>\n",
       "      <th>WOODS/FIELD FIRE</th>\n",
       "      <td>2143</td>\n",
       "    </tr>\n",
       "  </tbody>\n",
       "</table>\n",
       "</div>"
      ],
      "text/plain": [
       "                              e\n",
       "detail_title                   \n",
       "FIRE ALARM                33592\n",
       "VEHICLE ACCIDENT           9646\n",
       "FIRE INVESTIGATION         8118\n",
       "GAS-ODOR/LEAK              5893\n",
       "ELECTRICAL FIRE OUTSIDE    4226\n",
       "BUILDING FIRE              4156\n",
       "FIRE SPECIAL SERVICE       3498\n",
       "CARBON MONOXIDE DETECTOR   3339\n",
       "VEHICLE FIRE               2854\n",
       "WOODS/FIELD FIRE           2143"
      ]
     },
     "execution_count": 22,
     "metadata": {},
     "output_type": "execute_result"
    }
   ],
   "source": [
    "print(f'Terdapat sekitar {emergency_fire.nunique()[0]} jenis atau tipe panggilan dari kategori Fire.')\n",
    "print(f'Adapun urutan 10 teratas jenis panggilan dari kategori Fire ialah :')\n",
    "emergency_fire.pivot_table(index='detail_title', aggfunc=np.sum).sort_values(by='e', ascending=False).head(10)"
   ]
  },
  {
   "cell_type": "code",
   "execution_count": 23,
   "metadata": {},
   "outputs": [],
   "source": [
    "emergency_traffic = emergency[emergency['general_title']=='Traffic'][['detail_title','e']]"
   ]
  },
  {
   "cell_type": "code",
   "execution_count": 24,
   "metadata": {},
   "outputs": [
    {
     "name": "stdout",
     "output_type": "stream",
     "text": [
      "Terdapat sekitar 7 jenis atau tipe panggilan dari kategori Traffic.\n",
      "Adapun urutan dari jenis panggilan kategori Traffic ialah :\n"
     ]
    },
    {
     "data": {
      "text/html": [
       "<div>\n",
       "<style scoped>\n",
       "    .dataframe tbody tr th:only-of-type {\n",
       "        vertical-align: middle;\n",
       "    }\n",
       "\n",
       "    .dataframe tbody tr th {\n",
       "        vertical-align: top;\n",
       "    }\n",
       "\n",
       "    .dataframe thead th {\n",
       "        text-align: right;\n",
       "    }\n",
       "</style>\n",
       "<table border=\"1\" class=\"dataframe\">\n",
       "  <thead>\n",
       "    <tr style=\"text-align: right;\">\n",
       "      <th></th>\n",
       "      <th>e</th>\n",
       "    </tr>\n",
       "    <tr>\n",
       "      <th>detail_title</th>\n",
       "      <th></th>\n",
       "    </tr>\n",
       "  </thead>\n",
       "  <tbody>\n",
       "    <tr>\n",
       "      <th>VEHICLE ACCIDENT -</th>\n",
       "      <td>134020</td>\n",
       "    </tr>\n",
       "    <tr>\n",
       "      <th>DISABLED VEHICLE -</th>\n",
       "      <td>43440</td>\n",
       "    </tr>\n",
       "    <tr>\n",
       "      <th>ROAD OBSTRUCTION -</th>\n",
       "      <td>19946</td>\n",
       "    </tr>\n",
       "    <tr>\n",
       "      <th>HAZARDOUS ROAD CONDITIONS -</th>\n",
       "      <td>6212</td>\n",
       "    </tr>\n",
       "    <tr>\n",
       "      <th>VEHICLE FIRE -</th>\n",
       "      <td>2978</td>\n",
       "    </tr>\n",
       "    <tr>\n",
       "      <th>VEHICLE LEAKING FUEL -</th>\n",
       "      <td>263</td>\n",
       "    </tr>\n",
       "    <tr>\n",
       "      <th>DEBRIS/FLUIDS ON HIGHWAY -</th>\n",
       "      <td>184</td>\n",
       "    </tr>\n",
       "  </tbody>\n",
       "</table>\n",
       "</div>"
      ],
      "text/plain": [
       "                                  e\n",
       "detail_title                       \n",
       "VEHICLE ACCIDENT -           134020\n",
       "DISABLED VEHICLE -            43440\n",
       "ROAD OBSTRUCTION -            19946\n",
       "HAZARDOUS ROAD CONDITIONS -    6212\n",
       "VEHICLE FIRE -                 2978\n",
       "VEHICLE LEAKING FUEL -          263\n",
       "DEBRIS/FLUIDS ON HIGHWAY -      184"
      ]
     },
     "execution_count": 24,
     "metadata": {},
     "output_type": "execute_result"
    }
   ],
   "source": [
    "print(f'Terdapat sekitar {emergency_traffic.nunique()[0]} jenis atau tipe panggilan dari kategori Traffic.')\n",
    "print(f'Adapun urutan dari jenis panggilan kategori Traffic ialah :')\n",
    "emergency_traffic.pivot_table(index='detail_title', aggfunc=np.sum).sort_values(by='e', ascending=False)"
   ]
  },
  {
   "cell_type": "markdown",
   "metadata": {},
   "source": [
    "Meskipun kasus dari kategori `Traffic` berjumlah lebih sedikit dibandingkan dengan dua kategori lainnya. Namun, jumlah kasus terbanyak dari keseluruhan jenis atau tipe di kategori berada pada kategori `Traffic` dengan detail panggilannya ialah `VEHICLE ACCIDENT`."
   ]
  },
  {
   "cell_type": "markdown",
   "metadata": {},
   "source": [
    "### Number of Cases per Townships"
   ]
  },
  {
   "cell_type": "code",
   "execution_count": 25,
   "metadata": {},
   "outputs": [],
   "source": [
    "emergency_twp = emergency[['twp', 'e']].copy()\n",
    "emergency_twp.rename(columns={'e':'count'}, inplace=True)\n",
    "top_twp = emergency_twp.pivot_table(index='twp', aggfunc=np.sum).sort_values(by='count', ascending=False).head(10)"
   ]
  },
  {
   "cell_type": "code",
   "execution_count": 26,
   "metadata": {},
   "outputs": [
    {
     "data": {
      "image/png": "[encoded data removed]",
      "text/plain": [
       "<Figure size 1080x720 with 1 Axes>"
      ]
     },
     "metadata": {
      "needs_background": "light"
     },
     "output_type": "display_data"
    }
   ],
   "source": [
    "plt.figure(figsize=(15,10))\n",
    "plt.bar(x=top_twp.index, height=top_twp['count'])\n",
    "plt.title('Top 10 Cities for Most Emergency Calls in 2016-2019', loc='left', fontdict={'fontsize':14})\n",
    "plt.xlabel('Township', fontsize=13)\n",
    "plt.xticks(rotation=90, fontsize=13)\n",
    "plt.yticks(fontsize=13)\n",
    "plt.show()"
   ]
  },
  {
   "cell_type": "markdown",
   "metadata": {},
   "source": [
    "Sekarang kita coba cari tahu kategori _emergency call_ di masing-masing `twp`."
   ]
  },
  {
   "cell_type": "code",
   "execution_count": 27,
   "metadata": {},
   "outputs": [],
   "source": [
    "# New dataframe from slicing top 10 twp by number of cases\n",
    "list_twp = top_twp.index.values\n",
    "twp_title = emergency.set_index('twp')\n",
    "twp_title = twp_title.loc[list_twp][['general_title', 'e']].copy()\n",
    "\n",
    "# Pivot table by twp-general_title with sum method\n",
    "twp_title = twp_title.pivot_table(index=twp_title.index, columns='general_title', values='e', aggfunc=np.sum)"
   ]
  },
  {
   "cell_type": "code",
   "execution_count": 28,
   "metadata": {},
   "outputs": [
    {
     "data": {
      "image/png": "[encoded data removed]",
      "text/plain": [
       "<Figure size 1080x720 with 1 Axes>"
      ]
     },
     "metadata": {
      "needs_background": "light"
     },
     "output_type": "display_data"
    }
   ],
   "source": [
    "twp_title.plot.bar(figsize=(15,10), fontsize=13, stacked=True, rot=30)\n",
    "plt.title('Top 10 Cities with Title in 2016-2019', fontsize=14)\n",
    "plt.xlabel('Township', fontsize=13)\n",
    "plt.xticks(rotation=90)\n",
    "plt.ylabel('Number of Cases', fontsize=13)\n",
    "plt.show()"
   ]
  },
  {
   "cell_type": "markdown",
   "metadata": {},
   "source": [
    "Dari info yang kita dapatkan sebelumnya, diketahui bahwa kategori `EMS` dan `Traffic` memiliki kontribusi yang besar di tiap bulannya. Setelah kita cek, `LOWER MERION` dan `NORRISTOWN` merupakan kota atau kabupaten yang termasuk tiga besar dengan jumlah _emergency call_ terbanyak. Jika dibandingkan dengan kota atau kabupaten lainnya dari 10 besar tersebut, berturut-turut `LOWER MERION` dan `NORRISTOWN` memiliki jumlah kasus dari kategori `Traffic` dan `EMS` yang lebih banyak."
   ]
  },
  {
   "cell_type": "markdown",
   "metadata": {},
   "source": [
    "### Emergency Call by Month and Day"
   ]
  },
  {
   "cell_type": "code",
   "execution_count": 29,
   "metadata": {},
   "outputs": [],
   "source": [
    "import datetime\n",
    "import seaborn as sns"
   ]
  },
  {
   "cell_type": "code",
   "execution_count": 30,
   "metadata": {
    "scrolled": true
   },
   "outputs": [],
   "source": [
    "emergency_month_date = emergency[['timeStamp', 'e']].copy()"
   ]
  },
  {
   "cell_type": "code",
   "execution_count": 31,
   "metadata": {},
   "outputs": [],
   "source": [
    "emergency_month_date['month'] = pd.to_datetime(emergency_month_date['timeStamp'].dt.strftime('%B'), format='%B')\n",
    "emergency_month_date['date'] = emergency_month_date['timeStamp'].dt.strftime('%d')\n",
    "emergency_month_date.drop('timeStamp', axis=1, inplace=True)"
   ]
  },
  {
   "cell_type": "code",
   "execution_count": 32,
   "metadata": {},
   "outputs": [],
   "source": [
    "pivot_month_date = emergency_month_date.pivot_table(index='month', columns='date', values='e', aggfunc=np.sum)/4\n",
    "pivot_month_date.index = pivot_month_date.index.strftime('%B')"
   ]
  },
  {
   "cell_type": "code",
   "execution_count": 33,
   "metadata": {
    "scrolled": false
   },
   "outputs": [
    {
     "data": {
      "image/png": "[encoded data removed]",
      "text/plain": [
       "<Figure size 1440x576 with 2 Axes>"
      ]
     },
     "metadata": {
      "needs_background": "light"
     },
     "output_type": "display_data"
    }
   ],
   "source": [
    "plt.figure(figsize=(20,8))\n",
    "ax = sns.heatmap(pivot_month_date, cmap='viridis', linewidth=.5)\n",
    "ax.set_xticklabels(ax.get_xmajorticklabels(), fontsize = 13)\n",
    "ax.set_xlabel('Date', fontsize = 13)\n",
    "ax.set_yticklabels(ax.get_ymajorticklabels(), fontsize = 13)\n",
    "ax.set_ylabel('Month', fontsize = 13)\n",
    "ax.set_title('Average of Emergency Call per Year by Month and Date in 2016-2019', fontdict={'fontsize':14},\n",
    "             loc='left')\n",
    "plt.show()"
   ]
  },
  {
   "cell_type": "markdown",
   "metadata": {},
   "source": [
    "Secara rataan, hampir di tiap hari dan bulannya memiliki jumlah _emergency call_ yang kurang lebih sama. Hanya saja pada tanggal tertentu seperti `02 March` dan `15 November` terdapat jumlah _emergency call_ yang lebih banyak dibandingkan biasanya."
   ]
  },
  {
   "cell_type": "markdown",
   "metadata": {},
   "source": [
    "### Emergency Call by Day and Hour"
   ]
  },
  {
   "cell_type": "code",
   "execution_count": 34,
   "metadata": {},
   "outputs": [],
   "source": [
    "emergency_date_hour = emergency[['timeStamp', 'e']].copy()"
   ]
  },
  {
   "cell_type": "code",
   "execution_count": 35,
   "metadata": {},
   "outputs": [],
   "source": [
    "emergency_date_hour['date'] = emergency_date_hour['timeStamp'].dt.strftime('%d')\n",
    "emergency_date_hour['hour'] = emergency_date_hour['timeStamp'].dt.strftime('%H')\n",
    "emergency_date_hour.drop('timeStamp', axis=1, inplace=True)"
   ]
  },
  {
   "cell_type": "code",
   "execution_count": 36,
   "metadata": {},
   "outputs": [],
   "source": [
    "pivot_date_hour = emergency_date_hour.pivot_table(index='hour', columns='date', values='e', aggfunc=np.sum)/4"
   ]
  },
  {
   "cell_type": "code",
   "execution_count": 37,
   "metadata": {},
   "outputs": [
    {
     "data": {
      "image/png": "[encoded data removed]",
      "text/plain": [
       "<Figure size 1440x576 with 2 Axes>"
      ]
     },
     "metadata": {
      "needs_background": "light"
     },
     "output_type": "display_data"
    }
   ],
   "source": [
    "plt.figure(figsize=(20,8))\n",
    "ax = sns.heatmap(pivot_date_hour, cmap='viridis', linewidth=.5)\n",
    "ax.set_xticklabels(ax.get_xmajorticklabels(), fontsize = 13)\n",
    "ax.set_xlabel('Date', fontsize = 13)\n",
    "ax.set_yticklabels(ax.get_ymajorticklabels(), fontsize = 13, rotation=0)\n",
    "ax.set_ylabel('Hour', fontsize = 13)\n",
    "ax.set_title('Average of Emergency Call per Year by Date and Hour in 2016-2019', fontdict={'fontsize':14},\n",
    "             loc='left')\n",
    "plt.show()"
   ]
  },
  {
   "cell_type": "markdown",
   "metadata": {},
   "source": [
    "Jumlah _emergency call_ paling banyak terjadi di siang hingga sore hari tepatnya sekitar pukul 12.00 hingga 17.00. Hal ini disebabkan oleh karena aktivitas yang lebih banyak terjadi di waktu tersebut."
   ]
  },
  {
   "cell_type": "code",
   "execution_count": null,
   "metadata": {},
   "outputs": [],
   "source": []
  }
 ],
 "metadata": {
  "kernelspec": {
   "display_name": "Python 3",
   "language": "python",
   "name": "python3"
  },
  "language_info": {
   "codemirror_mode": {
    "name": "ipython",
    "version": 3
   },
   "file_extension": ".py",
   "mimetype": "text/x-python",
   "name": "python",
   "nbconvert_exporter": "python",
   "pygments_lexer": "ipython3",
   "version": "3.8.3"
  }
 },
 "nbformat": 4,
 "nbformat_minor": 4
}
